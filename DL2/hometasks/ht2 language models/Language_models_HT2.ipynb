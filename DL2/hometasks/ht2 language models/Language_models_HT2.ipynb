{
 "cells": [
  {
   "cell_type": "markdown",
   "metadata": {
    "colab_type": "text",
    "id": "OM7mpwG6ZsYd"
   },
   "source": [
    "### Задача определения частей речи, Part-Of-Speech Tagger (POS)"
   ]
  },
  {
   "cell_type": "markdown",
   "metadata": {
    "colab_type": "text",
    "id": "5gbWzm9RZvP6"
   },
   "source": [
    "Мы будем решать задачу определения частей речи (POS-теггинга) с помощью скрытой марковской модели (HMM)."
   ]
  },
  {
   "cell_type": "code",
   "execution_count": 0,
   "metadata": {
    "colab": {},
    "colab_type": "code",
    "id": "yKSBKuRdZvlc"
   },
   "outputs": [],
   "source": [
    "import nltk\n",
    "import pandas as pd\n",
    "import numpy as np\n",
    "from collections import OrderedDict, deque\n",
    "from nltk.corpus import brown\n",
    "import matplotlib.pyplot as plt"
   ]
  },
  {
   "cell_type": "markdown",
   "metadata": {
    "colab_type": "text",
    "id": "XX7otGf1Zyau"
   },
   "source": [
    "Вам в помощь http://www.nltk.org/book/"
   ]
  },
  {
   "cell_type": "markdown",
   "metadata": {
    "colab_type": "text",
    "id": "hXhDS6wDZ0cG"
   },
   "source": [
    "Загрузим brown корпус"
   ]
  },
  {
   "cell_type": "code",
   "execution_count": 2,
   "metadata": {
    "colab": {
     "base_uri": "https://localhost:8080/",
     "height": 69
    },
    "colab_type": "code",
    "id": "HfNQwoPtZwri",
    "outputId": "334c7d5b-8b46-4095-831f-f527bc071a77"
   },
   "outputs": [
    {
     "name": "stdout",
     "output_type": "stream",
     "text": [
      "[nltk_data] Downloading package brown to /root/nltk_data...\n",
      "[nltk_data]   Unzipping corpora/brown.zip.\n"
     ]
    },
    {
     "data": {
      "text/plain": [
       "True"
      ]
     },
     "execution_count": 2,
     "metadata": {
      "tags": []
     },
     "output_type": "execute_result"
    }
   ],
   "source": [
    "nltk.download('brown')"
   ]
  },
  {
   "cell_type": "markdown",
   "metadata": {
    "colab_type": "text",
    "id": "LdCtKdIkZ4-0"
   },
   "source": [
    "<b>Существует не одна система тегирования, поэтому будьте внимательны, когда прогнозируете тег слов в тексте и вычисляете качество прогноза. Можете получить несправедливо низкое качество вашего решения."
   ]
  },
  {
   "cell_type": "markdown",
   "metadata": {
    "colab_type": "text",
    "id": "1gi9bLZ6Z6rd"
   },
   "source": [
    "На семинаре была рассмотрена одна система. А сейчас будем использовать универсальную систему тегирования universal_tagset "
   ]
  },
  {
   "cell_type": "code",
   "execution_count": 3,
   "metadata": {
    "colab": {
     "base_uri": "https://localhost:8080/",
     "height": 69
    },
    "colab_type": "code",
    "id": "pE63EK6LZ115",
    "outputId": "5cd8ea4d-e1d6-4134-b535-090469cdc67f"
   },
   "outputs": [
    {
     "name": "stdout",
     "output_type": "stream",
     "text": [
      "[nltk_data] Downloading package universal_tagset to /root/nltk_data...\n",
      "[nltk_data]   Unzipping taggers/universal_tagset.zip.\n"
     ]
    },
    {
     "data": {
      "text/plain": [
       "True"
      ]
     },
     "execution_count": 3,
     "metadata": {
      "tags": []
     },
     "output_type": "execute_result"
    }
   ],
   "source": [
    "nltk.download('universal_tagset')"
   ]
  },
  {
   "cell_type": "markdown",
   "metadata": {
    "colab_type": "text",
    "id": "TKNm5vqQaA92"
   },
   "source": [
    "<img src=\"https://4.bp.blogspot.com/-IcFli2wljs0/WrVCw3umY_I/AAAAAAAACYM/UJ_neoUAs3wF95dj2Ouf3BzxXzB_b2TbQCLcBGAs/s1600/postags.png\">"
   ]
  },
  {
   "cell_type": "markdown",
   "metadata": {
    "colab_type": "text",
    "id": "wA-pBUGyaObW"
   },
   "source": [
    "Мы имеем массив предложений пар (слово-тег)"
   ]
  },
  {
   "cell_type": "code",
   "execution_count": 7,
   "metadata": {
    "colab": {
     "base_uri": "https://localhost:8080/",
     "height": 54
    },
    "colab_type": "code",
    "id": "So4OuUHHaRVS",
    "outputId": "b7b3f530-928b-406a-fa13-989ff6c4325f"
   },
   "outputs": [
    {
     "data": {
      "text/plain": [
       "[[('The', 'DET'), ('Fulton', 'NOUN'), ('County', 'NOUN'), ('Grand', 'ADJ'), ('Jury', 'NOUN'), ('said', 'VERB'), ('Friday', 'NOUN'), ('an', 'DET'), ('investigation', 'NOUN'), ('of', 'ADP'), (\"Atlanta's\", 'NOUN'), ('recent', 'ADJ'), ('primary', 'NOUN'), ('election', 'NOUN'), ('produced', 'VERB'), ('``', '.'), ('no', 'DET'), ('evidence', 'NOUN'), (\"''\", '.'), ('that', 'ADP'), ('any', 'DET'), ('irregularities', 'NOUN'), ('took', 'VERB'), ('place', 'NOUN'), ('.', '.')], [('The', 'DET'), ('jury', 'NOUN'), ('further', 'ADV'), ('said', 'VERB'), ('in', 'ADP'), ('term-end', 'NOUN'), ('presentments', 'NOUN'), ('that', 'ADP'), ('the', 'DET'), ('City', 'NOUN'), ('Executive', 'ADJ'), ('Committee', 'NOUN'), (',', '.'), ('which', 'DET'), ('had', 'VERB'), ('over-all', 'ADJ'), ('charge', 'NOUN'), ('of', 'ADP'), ('the', 'DET'), ('election', 'NOUN'), (',', '.'), ('``', '.'), ('deserves', 'VERB'), ('the', 'DET'), ('praise', 'NOUN'), ('and', 'CONJ'), ('thanks', 'NOUN'), ('of', 'ADP'), ('the', 'DET'), ('City', 'NOUN'), ('of', 'ADP'), ('Atlanta', 'NOUN'), (\"''\", '.'), ('for', 'ADP'), ('the', 'DET'), ('manner', 'NOUN'), ('in', 'ADP'), ('which', 'DET'), ('the', 'DET'), ('election', 'NOUN'), ('was', 'VERB'), ('conducted', 'VERB'), ('.', '.')], ...]"
      ]
     },
     "execution_count": 7,
     "metadata": {
      "tags": []
     },
     "output_type": "execute_result"
    }
   ],
   "source": [
    "brown_tagged_sents = brown.tagged_sents(tagset=\"universal\")\n",
    "brown_tagged_sents"
   ]
  },
  {
   "cell_type": "markdown",
   "metadata": {
    "colab_type": "text",
    "id": "eMXMox_iaT9f"
   },
   "source": [
    "Первое предложение"
   ]
  },
  {
   "cell_type": "code",
   "execution_count": 8,
   "metadata": {
    "colab": {
     "base_uri": "https://localhost:8080/",
     "height": 450
    },
    "colab_type": "code",
    "id": "OlQNKfqhaSF7",
    "outputId": "cbd9e5b3-a326-4163-b501-d9c251d88f86"
   },
   "outputs": [
    {
     "data": {
      "text/plain": [
       "[('The', 'DET'),\n",
       " ('Fulton', 'NOUN'),\n",
       " ('County', 'NOUN'),\n",
       " ('Grand', 'ADJ'),\n",
       " ('Jury', 'NOUN'),\n",
       " ('said', 'VERB'),\n",
       " ('Friday', 'NOUN'),\n",
       " ('an', 'DET'),\n",
       " ('investigation', 'NOUN'),\n",
       " ('of', 'ADP'),\n",
       " (\"Atlanta's\", 'NOUN'),\n",
       " ('recent', 'ADJ'),\n",
       " ('primary', 'NOUN'),\n",
       " ('election', 'NOUN'),\n",
       " ('produced', 'VERB'),\n",
       " ('``', '.'),\n",
       " ('no', 'DET'),\n",
       " ('evidence', 'NOUN'),\n",
       " (\"''\", '.'),\n",
       " ('that', 'ADP'),\n",
       " ('any', 'DET'),\n",
       " ('irregularities', 'NOUN'),\n",
       " ('took', 'VERB'),\n",
       " ('place', 'NOUN'),\n",
       " ('.', '.')]"
      ]
     },
     "execution_count": 8,
     "metadata": {
      "tags": []
     },
     "output_type": "execute_result"
    }
   ],
   "source": [
    "brown_tagged_sents[0]"
   ]
  },
  {
   "cell_type": "markdown",
   "metadata": {
    "colab_type": "text",
    "id": "zoTZo41FalWe"
   },
   "source": [
    "Все пары (слово-тег)"
   ]
  },
  {
   "cell_type": "code",
   "execution_count": 9,
   "metadata": {
    "colab": {
     "base_uri": "https://localhost:8080/",
     "height": 34
    },
    "colab_type": "code",
    "id": "iMgGPTafakCA",
    "outputId": "13112807-dfd1-4207-c627-1807ad3b3ca9"
   },
   "outputs": [
    {
     "data": {
      "text/plain": [
       "[('The', 'DET'), ('Fulton', 'NOUN'), ...]"
      ]
     },
     "execution_count": 9,
     "metadata": {
      "tags": []
     },
     "output_type": "execute_result"
    }
   ],
   "source": [
    "brown_tagged_words = brown.tagged_words(tagset='universal')\n",
    "brown_tagged_words"
   ]
  },
  {
   "cell_type": "markdown",
   "metadata": {
    "colab_type": "text",
    "id": "ShC5ein6aoZ_"
   },
   "source": [
    "Проанализируйте данные, с которыми Вы работаете. Используйте `nltk.FreqDist()` для подсчета частоты встречаемости тега и слова в нашем корпусе. Под частой элемента подразумевается кол-во этого элемента в корпусе."
   ]
  },
  {
   "cell_type": "code",
   "execution_count": 0,
   "metadata": {
    "colab": {},
    "colab_type": "code",
    "id": "yObwjNFham2Z"
   },
   "outputs": [],
   "source": [
    "# Приведем слова к нижнему регистру\n",
    "brown_tagged_words = list(map(lambda x: (x[0].lower(), x[1]), brown_tagged_words))"
   ]
  },
  {
   "cell_type": "code",
   "execution_count": 11,
   "metadata": {
    "colab": {
     "base_uri": "https://localhost:8080/",
     "height": 34
    },
    "colab_type": "code",
    "id": "jteZ4KRXap5o",
    "outputId": "57ccd07b-d6fb-4cbb-ffbc-b664175afde3"
   },
   "outputs": [
    {
     "name": "stdout",
     "output_type": "stream",
     "text": [
      "Кол-во предложений:  57340\n"
     ]
    }
   ],
   "source": [
    "print('Кол-во предложений: ', len(brown_tagged_sents))\n",
    "tags = [tag for (word, tag) in brown_tagged_words] # наши теги\n",
    "words = [word for (word, tag) in brown_tagged_words] # наши слова\n",
    "\n",
    "words_dist = nltk.FreqDist(words)\n",
    "tags_dist = nltk.FreqDist(tags)\n",
    "\n",
    "tag_num = pd.Series([tags_dist[i] for i in list(set(tags))], index=list(set(tags))).sort_values(ascending=False)  # тег - кол-во тега в корпусе\n",
    "word_num = pd.Series([words_dist[i] for i in list(set(words))], index=list(set(words))).sort_values(ascending=False) # слово - кол-во слова в корпусе"
   ]
  },
  {
   "cell_type": "code",
   "execution_count": 12,
   "metadata": {
    "colab": {
     "base_uri": "https://localhost:8080/",
     "height": 242
    },
    "colab_type": "code",
    "id": "FYxs3IXQaqqz",
    "outputId": "c04845f0-534d-42cf-956a-3f2a11ac8a30"
   },
   "outputs": [
    {
     "data": {
      "text/plain": [
       "NOUN    275558\n",
       "VERB    182750\n",
       ".       147565\n",
       "ADP     144766\n",
       "DET     137019\n",
       "ADJ      83721\n",
       "ADV      56239\n",
       "PRON     49334\n",
       "CONJ     38151\n",
       "PRT      29829\n",
       "NUM      14874\n",
       "X         1386\n",
       "dtype: int64"
      ]
     },
     "execution_count": 12,
     "metadata": {
      "tags": []
     },
     "output_type": "execute_result"
    }
   ],
   "source": [
    "tag_num"
   ]
  },
  {
   "cell_type": "code",
   "execution_count": 13,
   "metadata": {
    "colab": {
     "base_uri": "https://localhost:8080/",
     "height": 336
    },
    "colab_type": "code",
    "id": "jwTHfUXlaruZ",
    "outputId": "9380e3c2-54af-401c-aac2-a03e4dfc249e"
   },
   "outputs": [
    {
     "data": {
      "image/png": "[encoded data removed]",
      "text/plain": [
       "<Figure size 864x360 with 1 Axes>"
      ]
     },
     "metadata": {
      "needs_background": "light",
      "tags": []
     },
     "output_type": "display_data"
    }
   ],
   "source": [
    "plt.figure(figsize=(12, 5))\n",
    "plt.bar(tag_num.index, tag_num.values)\n",
    "plt.title(\"Tag_frequency\")\n",
    "plt.show()"
   ]
  },
  {
   "cell_type": "code",
   "execution_count": 14,
   "metadata": {
    "colab": {
     "base_uri": "https://localhost:8080/",
     "height": 121
    },
    "colab_type": "code",
    "id": "Hw_vYIfKassW",
    "outputId": "09d40931-0584-4efb-dfd7-d9de70b52476"
   },
   "outputs": [
    {
     "data": {
      "text/plain": [
       "the    69971\n",
       ",      58334\n",
       ".      49346\n",
       "of     36412\n",
       "and    28853\n",
       "dtype: int64"
      ]
     },
     "execution_count": 14,
     "metadata": {
      "tags": []
     },
     "output_type": "execute_result"
    }
   ],
   "source": [
    "word_num[:5]"
   ]
  },
  {
   "cell_type": "code",
   "execution_count": 15,
   "metadata": {
    "colab": {
     "base_uri": "https://localhost:8080/",
     "height": 336
    },
    "colab_type": "code",
    "id": "VBQCkqMAat9-",
    "outputId": "d0b7259a-66b9-47bd-e46f-0ab2c1a41880"
   },
   "outputs": [
    {
     "data": {
      "image/png": "[encoded data removed]",
      "text/plain": [
       "<Figure size 864x360 with 1 Axes>"
      ]
     },
     "metadata": {
      "needs_background": "light",
      "tags": []
     },
     "output_type": "display_data"
    }
   ],
   "source": [
    "plt.figure(figsize=(12, 5))\n",
    "plt.bar(word_num.index[:10], word_num.values[:10])\n",
    "plt.title(\"Word_frequency\")\n",
    "plt.show()"
   ]
  },
  {
   "cell_type": "markdown",
   "metadata": {
    "colab_type": "text",
    "id": "t7f_0wI5awyM"
   },
   "source": [
    "### Вопрос 1:\n",
    "* Кол-во слова `cat` в корпусе?"
   ]
  },
  {
   "cell_type": "code",
   "execution_count": 16,
   "metadata": {
    "colab": {
     "base_uri": "https://localhost:8080/",
     "height": 34
    },
    "colab_type": "code",
    "id": "U_HL8ka_auyx",
    "outputId": "b0e25339-f81f-45e1-ae77-d3d084771ed5"
   },
   "outputs": [
    {
     "data": {
      "text/plain": [
       "23"
      ]
     },
     "execution_count": 16,
     "metadata": {
      "tags": []
     },
     "output_type": "execute_result"
    }
   ],
   "source": [
    "words_dist['cat']"
   ]
  },
  {
   "cell_type": "markdown",
   "metadata": {
    "colab_type": "text",
    "id": "4N3IrvOra3Df"
   },
   "source": [
    "### Вопрос 2:\n",
    "* Самое популярное слово с самым популярным тегом?"
   ]
  },
  {
   "cell_type": "code",
   "execution_count": 17,
   "metadata": {
    "colab": {
     "base_uri": "https://localhost:8080/",
     "height": 34
    },
    "colab_type": "code",
    "id": "CHkvPhgLa03O",
    "outputId": "9d48296b-bc78-49ad-ef93-8cb0e781a64b"
   },
   "outputs": [
    {
     "data": {
      "text/plain": [
       "[('NOUN', 275558)]"
      ]
     },
     "execution_count": 17,
     "metadata": {
      "tags": []
     },
     "output_type": "execute_result"
    }
   ],
   "source": [
    "tags_dist.most_common(1) # самый популярный тег"
   ]
  },
  {
   "cell_type": "code",
   "execution_count": 18,
   "metadata": {
    "colab": {
     "base_uri": "https://localhost:8080/",
     "height": 34
    },
    "colab_type": "code",
    "id": "sd57eBxia4ot",
    "outputId": "cb09a4c3-16b2-4db8-c67e-fbb7651d68b1"
   },
   "outputs": [
    {
     "data": {
      "text/plain": [
       "('to', 26158)"
      ]
     },
     "execution_count": 18,
     "metadata": {
      "tags": []
     },
     "output_type": "execute_result"
    }
   ],
   "source": [
    "nouns  = np.array(brown_tagged_words)[np.array(brown_tagged_words)[:,1]=='NOUN'][:,0]\n",
    "mx = np.array([words_dist[none] for none in nouns])\n",
    "(nouns[np.argmax(mx)], words_dist[nouns[np.argmax(mx)]]) # самое популярное тег с самым популярным словом 'to'"
   ]
  },
  {
   "cell_type": "code",
   "execution_count": 90,
   "metadata": {
    "colab": {
     "base_uri": "https://localhost:8080/",
     "height": 34
    },
    "colab_type": "code",
    "id": "kGCHQltLhQFa",
    "outputId": "cd99c93d-54fc-4dab-b6fe-06e944051544"
   },
   "outputs": [
    {
     "data": {
      "text/plain": [
       "('time', 'NOUN')"
      ]
     },
     "execution_count": 90,
     "metadata": {
      "tags": []
     },
     "output_type": "execute_result"
    }
   ],
   "source": [
    "from collections import Counter\n",
    "\n",
    "tp_wrd = [tag for tag,word in brown_tagged_words if word == tag_num.index[0]]\n",
    "ix = Counter(tp_wrd).most_common(1)[0]\n",
    "(ix[0], tag_num.index[0]) #самое популярное слово с самым популярным тегом"
   ]
  },
  {
   "cell_type": "markdown",
   "metadata": {
    "colab_type": "text",
    "id": "-Cw_MHDFh7xK"
   },
   "source": [
    "Ответ: time"
   ]
  },
  {
   "cell_type": "markdown",
   "metadata": {
    "colab_type": "text",
    "id": "d-YvfLkSa7EE"
   },
   "source": [
    "Впоследствии обучение моделей может занимать слишком много времени, работайте с подвыборкой, например, только текстами определенных категорий."
   ]
  },
  {
   "cell_type": "markdown",
   "metadata": {
    "colab_type": "text",
    "id": "WhreZQQ0a7GP"
   },
   "source": [
    "Категории нашего корпуса:"
   ]
  },
  {
   "cell_type": "code",
   "execution_count": 19,
   "metadata": {
    "colab": {
     "base_uri": "https://localhost:8080/",
     "height": 277
    },
    "colab_type": "code",
    "id": "51u-bvgja5yH",
    "outputId": "6645797d-c187-4346-e63a-812847e2688c"
   },
   "outputs": [
    {
     "data": {
      "text/plain": [
       "['adventure',\n",
       " 'belles_lettres',\n",
       " 'editorial',\n",
       " 'fiction',\n",
       " 'government',\n",
       " 'hobbies',\n",
       " 'humor',\n",
       " 'learned',\n",
       " 'lore',\n",
       " 'mystery',\n",
       " 'news',\n",
       " 'religion',\n",
       " 'reviews',\n",
       " 'romance',\n",
       " 'science_fiction']"
      ]
     },
     "execution_count": 19,
     "metadata": {
      "tags": []
     },
     "output_type": "execute_result"
    }
   ],
   "source": [
    "brown.categories()"
   ]
  },
  {
   "cell_type": "markdown",
   "metadata": {
    "colab_type": "text",
    "id": "bDOlwOVwa-X8"
   },
   "source": [
    "Будем работать с категорией humor"
   ]
  },
  {
   "cell_type": "markdown",
   "metadata": {
    "colab_type": "text",
    "id": "7ns3SdKza-Vi"
   },
   "source": [
    "Cделайте случайное разбиение выборки на обучение и контроль в отношении 9:1. "
   ]
  },
  {
   "cell_type": "code",
   "execution_count": 0,
   "metadata": {
    "colab": {},
    "colab_type": "code",
    "id": "RHb-4Sdpa9mj"
   },
   "outputs": [],
   "source": [
    "brown_tagged_sents = brown.tagged_sents(tagset=\"universal\", categories='humor')\n",
    "# Приведем слова к нижнему регистру\n",
    "my_brown_tagged_sents = []\n",
    "for sent in brown_tagged_sents:\n",
    "    my_brown_tagged_sents.append(list(map(lambda x: (x[0].lower(), x[1]), sent)))\n",
    "\n",
    "my_brown_tagged_sents = np.array(my_brown_tagged_sents)\n",
    "np.random.seed(2)\n",
    "random_index = np.random.choice([0, 1], len(my_brown_tagged_sents), p=[0.1, 0.9]).astype('bool')\n",
    "train_sents = my_brown_tagged_sents[random_index]\n",
    "test_sents = my_brown_tagged_sents[(1 - random_index).astype('bool')]"
   ]
  },
  {
   "cell_type": "code",
   "execution_count": 21,
   "metadata": {
    "colab": {
     "base_uri": "https://localhost:8080/",
     "height": 34
    },
    "colab_type": "code",
    "id": "6ZH3t5apbEKa",
    "outputId": "ff6c80a0-fd3c-4830-e9cf-3c0f6db5ca0d"
   },
   "outputs": [
    {
     "data": {
      "text/plain": [
       "952"
      ]
     },
     "execution_count": 21,
     "metadata": {
      "tags": []
     },
     "output_type": "execute_result"
    }
   ],
   "source": [
    "len(train_sents)"
   ]
  },
  {
   "cell_type": "code",
   "execution_count": 22,
   "metadata": {
    "colab": {
     "base_uri": "https://localhost:8080/",
     "height": 34
    },
    "colab_type": "code",
    "id": "tOgqRlPlbE2i",
    "outputId": "eba4046f-88ad-491a-b56a-9e2a60a568cb"
   },
   "outputs": [
    {
     "data": {
      "text/plain": [
       "101"
      ]
     },
     "execution_count": 22,
     "metadata": {
      "tags": []
     },
     "output_type": "execute_result"
    }
   ],
   "source": [
    "len(test_sents)"
   ]
  },
  {
   "cell_type": "markdown",
   "metadata": {
    "colab_type": "text",
    "id": "dmDsaFmEbIw0"
   },
   "source": [
    "### Метод максимального правдоподобия для обучения модели\n",
    "\n",
    "* $\\normalsize S = s_0, s_1, ..., s_N$ - скрытые состояния, то есть различные теги\n",
    "* $\\normalsize O = o_0, o_1, ..., o_M$ - различные слова\n",
    "* $\\normalsize a_{i,j} = p(s_j|s_i)$ - вероятность того, что, находясь в скрытом состоянии $s_i$, мы попадем в состояние $s_j$ (элемент матрицы $A$)\n",
    "* $\\normalsize b_{k,j}=p(o_k|s_j)$ - вероятность того, что при скрытом состоянии $s_j$ находится слово $o_k$(элемент матрицы $B$)\n",
    "\n",
    "$$\\normalsize x_t \\in O, y_t \\in S$$\n",
    "$\\normalsize (x_t, y_t)$ - слово и тег, стоящие на месте $t$ $\\Rightarrow$ \n",
    "* $\\normalsize X$ - последовательность слов\n",
    "* $\\normalsize Y$ - последовательность тегов\n",
    "\n",
    "Требуется построить скрытую марковскую модель (class HiddenMarkovModel) и написать метод fit для настройки всех её параметров с помощью оценок максимального правдоподобия по размеченным данным (последовательности пар слово+тег):\n",
    "\n",
    "- Вероятности переходов между скрытыми состояниями $p(y_t | y_{t - 1})$ посчитайте на основе частот биграмм POS-тегов.\n",
    "\n",
    "\n",
    "- Вероятности эмиссий наблюдаемых состояний $p(x_t | y_t)$ посчитайте на основе частот \"POS-тег - слово\".\n",
    "\n",
    "\n",
    "- Распределение вероятностей начальных состояний $p(y_0)$ задайте равномерным.\n",
    "\n",
    "Пример $X = [x_0, x_1], Y = [y_0, y_1]$:<br><br>\n",
    "$$p(X, Y) = p(x_0, x_1, y_0, y_1) = p(y_0) \\cdot p(x_0, x_1, y_1 | y_0) = p(y_0) \\cdot p(x_0 | y_0) \\cdot\n",
    "p(x_1, y_1 | x_0, y_0) = \\\\ = p(y_0) \\cdot p(x_0 | y_0) \\cdot p(y_1 | x_0, y_0) \\cdot p(x_1 | x_0, y_0, y_1)\n",
    "= (\\text{в силу условий наши модели}) = p(y_0) \\cdot p(x_0 | y_0) \\cdot p(y_1 | y_0) \\cdot p(x_1 | y_1) \\Rightarrow$$ <br>\n",
    "Для последовательности длины $n + 1$:<br>\n",
    "$$p(X, Y) = p(x_0 ... x_{n - 1}, y_0 ... y_{n - 1}) \\cdot p(y_n | y_{n - 1}) \\cdot p(x_n | y_n)$$"
   ]
  },
  {
   "cell_type": "markdown",
   "metadata": {
    "colab_type": "text",
    "id": "KcRGI0PobLY0"
   },
   "source": [
    "#### Алгоритм Витерби для применения модели\n",
    "\n",
    "\n",
    "Требуется написать метод .predict для определения частей речи на тестовой выборке. Чтобы использовать обученную модель на новых данных, необходимо реализовать алгоритм Витерби. Это алгоритм динамиеского программирования, с помощью которого мы будем находить наиболее вероятную последовательность скрытых состояний модели для фиксированной последовательности слов:\n",
    "\n",
    "$$ \\hat{Y} = \\arg \\max_{Y} p(Y|X) = \\arg \\max_{Y} p(Y, X) $$\n",
    "\n",
    "Пусть $\\normalsize Q_{t,s}$ - самая вероятная последовательность скрытых состояний длины $t$ с окончанием в состоянии $s$. $\\normalsize q_{t, s}$ - вероятность этой последовательности.\n",
    "$$(1)\\: \\normalsize q_{t,s} = \\max_{s'} q_{t - 1, s'} \\cdot p(s | s') \\cdot p(o_t | s)$$\n",
    "$\\normalsize Q_{t,s}$ можно восстановить по argmax-ам."
   ]
  },
  {
   "cell_type": "code",
   "execution_count": 0,
   "metadata": {
    "colab": {},
    "colab_type": "code",
    "id": "9Ey2KOCMbFh9"
   },
   "outputs": [],
   "source": [
    "class HiddenMarkovModel:    \n",
    "    def __init__(self):\n",
    "    \n",
    "        pass\n",
    "        \n",
    "    def fit(self, train_tokens_tags_list):\n",
    "        \"\"\"\n",
    "        train_tokens_tags_list: массив предложений пар слово-тег (выборка для train) \n",
    "        \"\"\"\n",
    "        tags = [tag for sent in train_tokens_tags_list\n",
    "                for (word, tag) in sent]\n",
    "        words = [word for sent in train_tokens_tags_list\n",
    "                 for (word, tag) in sent]\n",
    "        \n",
    "        tag_num = pd.Series([tags_dist[i] for i in list(set(tags))], index=list(set(tags))).sort_values(ascending=False)  # тег - кол-во тега в корпусе\n",
    "        word_num = pd.Series([words_dist[i] for i in list(set(words))], index=list(set(words))).sort_values(ascending=False) # слово - кол-во слова в корпусе\n",
    "         \n",
    "        self.tags = tag_num.index\n",
    "        self.words = word_num.index\n",
    "        \n",
    "        A = pd.DataFrame({'{}'.format(tag) : [0] * len(tag_num) for tag in tag_num.index}, index=tag_num.index)\n",
    "        B = pd.DataFrame({'{}'.format(tag) : [0] * len(word_num) for tag in tag_num.index}, index=word_num.index)\n",
    "        \n",
    "        # Вычисляем матрицу A и B по частотам слов и тегов\n",
    "        \n",
    "        # sent - предложение\n",
    "        # sent[i][0] - i слово в этом предложении, sent[i][1] - i тег в этом предложении\n",
    "        for sent in train_tokens_tags_list:\n",
    "            for i in range(len(sent)):\n",
    "                B.loc[sent[i][0], sent[i][1]] += 1 # текущая i-пара слово-тег (обновите матрицу B аналогично A)\n",
    "                if len(sent) - 1 != i: # для последнего тега нет следующего тега\n",
    "                    A.loc[sent[i][1], sent[i + 1][1]] += 1 # пара тег-тег\n",
    "                \n",
    "        \n",
    "        # переходим к вероятностям\n",
    "        \n",
    "        # нормируем по строке, то есть по всем всевозможным следующим тегам\n",
    "        A = A.divide(A.sum(axis=1), axis=0)\n",
    "        \n",
    "        # нормируем по столбцу, то есть по всем всевозможным текущим словам\n",
    "        B = B / np.sum(B, axis=0)\n",
    "        \n",
    "        self.A = A\n",
    "        self.B = B\n",
    "        \n",
    "        return self\n",
    "        \n",
    "    \n",
    "    def predict(self, test_tokens_list):\n",
    "        \"\"\"\n",
    "        test_tokens_list : массив предложений пар слово-тег (выборка для test)\n",
    "        \"\"\"\n",
    "        predict_tags = OrderedDict({i : np.array([]) for i in range(len(test_tokens_list))})\n",
    "        \n",
    "        for i_sent in range(len(test_tokens_list)):\n",
    "            \n",
    "            current_sent = test_tokens_list[i_sent] # текущее предложение\n",
    "            len_sent = len(current_sent) # длина предложения \n",
    "            \n",
    "            q = np.zeros(shape=(len_sent + 1, len(self.tags)))\n",
    "            q[0] = 1 # нулевое состояние (равномерная инициализация по всем s)\n",
    "            back_point = np.zeros(shape=(len_sent + 1, len(self.tags))) # # argmax\n",
    "            \n",
    "            for t in range(len_sent):\n",
    "                \n",
    "                # если мы не встречали такое слово в обучении, то вместо него будет \n",
    "                # самое популярное слово с самым популярным тегом (вопрос 2)\n",
    "                if current_sent[t] not in self.words:\n",
    "                    current_sent[t] = 'time'\n",
    "                    \n",
    "                # через max выбираем следующий тег\n",
    "                for i_s in range(len(self.tags)):\n",
    "                    \n",
    "                    s = self.tags[i_s]\n",
    "                    \n",
    "                    # формула (1)\n",
    "                    q[t + 1][i_s] = np.max(q[t] *\n",
    "                        self.A.loc[:, s] * \n",
    "                        self.B.loc[current_sent[t], s])\n",
    "                    \n",
    "                    # argmax формула(1)\n",
    "                    \n",
    "                    # argmax, чтобы восстановить последовательность тегов\n",
    "                    back_point[t + 1][i_s] = (q[t] * self.A.loc[:, s] * \n",
    "                        self.B.loc[current_sent[t],s]).reset_index()[s].idxmax() # индекс \n",
    "                    \n",
    "            back_point = back_point.astype('int')\n",
    "            \n",
    "            # выписываем теги, меняя порядок на реальный\n",
    "            back_tag = deque()\n",
    "            current_tag = np.argmax(q[len_sent])\n",
    "            for t in range(len_sent, 0, -1):\n",
    "                back_tag.appendleft(self.tags[current_tag])\n",
    "                current_tag = back_point[t, current_tag]\n",
    "             \n",
    "            predict_tags[i_sent] = np.array(back_tag)\n",
    "        \n",
    "        \n",
    "        return predict_tags                 "
   ]
  },
  {
   "cell_type": "markdown",
   "metadata": {
    "colab_type": "text",
    "id": "9G0SUGY2bOqo"
   },
   "source": [
    "Обучите скрытую марковскую модель:"
   ]
  },
  {
   "cell_type": "code",
   "execution_count": 0,
   "metadata": {
    "colab": {},
    "colab_type": "code",
    "id": "Bnl--2dzbNCz"
   },
   "outputs": [],
   "source": [
    "# my_model = ..,\n",
    "my_model = HiddenMarkovModel().fit(train_sents)"
   ]
  },
  {
   "cell_type": "markdown",
   "metadata": {
    "colab_type": "text",
    "id": "jiNlwRInbSjP"
   },
   "source": [
    "Проверьте работу реализованного алгоритма на следующих модельных примерах, проинтерпретируйте результат.\n",
    "\n",
    "- 'He can stay'\n",
    "- 'a cat and a dog'\n",
    "- 'I have a television'\n",
    "- 'My favourite character'"
   ]
  },
  {
   "cell_type": "code",
   "execution_count": 99,
   "metadata": {
    "colab": {
     "base_uri": "https://localhost:8080/",
     "height": 86
    },
    "colab_type": "code",
    "id": "zgiTYsw5bQzw",
    "outputId": "a299be60-5077-42eb-deac-ef6e3c6b9a1b"
   },
   "outputs": [
    {
     "data": {
      "text/plain": [
       "OrderedDict([(0, array(['NOUN', 'VERB', 'VERB'], dtype='<U4')),\n",
       "             (1, array(['DET', 'NOUN', 'CONJ', 'DET', 'NOUN'], dtype='<U4')),\n",
       "             (2, array(['NOUN', 'VERB', 'DET', 'NOUN'], dtype='<U4')),\n",
       "             (3, array(['NOUN', 'NOUN', 'NOUN'], dtype='<U4'))])"
      ]
     },
     "execution_count": 99,
     "metadata": {
      "tags": []
     },
     "output_type": "execute_result"
    }
   ],
   "source": [
    "sents = [['He', 'can', 'stay'], ['a', 'cat', 'and', 'a', 'dog'], ['I', 'have', 'a', 'television'],\n",
    "         ['My', 'favourite', 'character']]\n",
    "my_model.predict(sents)"
   ]
  },
  {
   "cell_type": "markdown",
   "metadata": {
    "colab_type": "text",
    "id": "GB3xHr4EbVZy"
   },
   "source": [
    "### Вопрос 3:\n",
    "* Какой тег вы получили для слова `can`?"
   ]
  },
  {
   "cell_type": "code",
   "execution_count": 100,
   "metadata": {
    "colab": {
     "base_uri": "https://localhost:8080/",
     "height": 34
    },
    "colab_type": "code",
    "id": "O4undzkWbT4O",
    "outputId": "56844325-800d-4803-cdb6-fa481613d222"
   },
   "outputs": [
    {
     "data": {
      "text/plain": [
       "OrderedDict([(0, array(['NOUN'], dtype='<U4'))])"
      ]
     },
     "execution_count": 100,
     "metadata": {
      "tags": []
     },
     "output_type": "execute_result"
    }
   ],
   "source": [
    "my_model.predict([['cat']])"
   ]
  },
  {
   "cell_type": "markdown",
   "metadata": {
    "colab_type": "text",
    "id": "LOcrFfQibYZL"
   },
   "source": [
    "### Вопрос 4:\n",
    "* Какой тег вы получили для слова `favourite`?"
   ]
  },
  {
   "cell_type": "code",
   "execution_count": 101,
   "metadata": {
    "colab": {
     "base_uri": "https://localhost:8080/",
     "height": 34
    },
    "colab_type": "code",
    "id": "TtrGQ1_QbW7Y",
    "outputId": "f15256c1-38a9-448c-e501-88a244949498"
   },
   "outputs": [
    {
     "data": {
      "text/plain": [
       "OrderedDict([(0, array(['NOUN'], dtype='<U4'))])"
      ]
     },
     "execution_count": 101,
     "metadata": {
      "tags": []
     },
     "output_type": "execute_result"
    }
   ],
   "source": [
    "my_model.predict([['favorite']])"
   ]
  },
  {
   "cell_type": "code",
   "execution_count": 0,
   "metadata": {
    "colab": {},
    "colab_type": "code",
    "id": "MAtZ5SHzbZ6z"
   },
   "outputs": [],
   "source": [
    "def accuracy_score(model, sents):\n",
    "    true_pred = 0\n",
    "    num_pred = 0\n",
    "\n",
    "    for sent in sents:\n",
    "        tags = [tag for (word, tag) in sent]\n",
    "        words = [word for (word, tag) in sent]\n",
    "\n",
    "        outputs = model.predict([words])[0]\n",
    "\n",
    "        true_pred += np.sum(tags==outputs)\n",
    "        num_pred += len(outputs)\n",
    "    print(\"Accuracy: %.1f процентов\" % (true_pred / num_pred * 100))"
   ]
  },
  {
   "cell_type": "code",
   "execution_count": 103,
   "metadata": {
    "colab": {
     "base_uri": "https://localhost:8080/",
     "height": 34
    },
    "colab_type": "code",
    "id": "bpCKnk2pbrJ5",
    "outputId": "28ecbf6a-bb2b-4132-8843-1c67706057bd"
   },
   "outputs": [
    {
     "name": "stdout",
     "output_type": "stream",
     "text": [
      "Accuracy: 89.5 процентов\n"
     ]
    }
   ],
   "source": [
    "accuracy_score(my_model, test_sents)"
   ]
  },
  {
   "cell_type": "markdown",
   "metadata": {
    "colab_type": "text",
    "id": "Fq8b3Xobbuj3"
   },
   "source": [
    "### Вопрос 5:\n",
    "* Какое качество вы получили(округлите до одного знака после запятой)?\n",
    "\n",
    "**Ответ**: 89.5"
   ]
  },
  {
   "cell_type": "markdown",
   "metadata": {
    "colab_type": "text",
    "id": "NKU2_B6DbxkL"
   },
   "source": [
    "## DefaultTagger"
   ]
  },
  {
   "cell_type": "markdown",
   "metadata": {
    "colab_type": "text",
    "id": "GPMmHAkWbz1Z"
   },
   "source": [
    "### Вопрос 6:\n",
    "* Какое качество вы бы получили, если бы предсказывали любой тег, как самый популярный тег на выборке train(округлите до одного знака после запятой)?"
   ]
  },
  {
   "cell_type": "code",
   "execution_count": 104,
   "metadata": {
    "colab": {
     "base_uri": "https://localhost:8080/",
     "height": 34
    },
    "colab_type": "code",
    "id": "7lFCPiywbsRq",
    "outputId": "46ef7d49-9958-4165-fe98-d6ebed16d758"
   },
   "outputs": [
    {
     "name": "stdout",
     "output_type": "stream",
     "text": [
      "Accuracy: 22.428991185112636 %\n"
     ]
    }
   ],
   "source": [
    "true_pred = 0\n",
    "num_pred = 0\n",
    "\n",
    "for sent in test_sents:\n",
    "    tags = np.array([tag for (word, tag) in sent])\n",
    "    words = np.array([word for (word, tag) in sent])\n",
    "\n",
    "    #outputs = model.predict([words])[0]\n",
    "\n",
    "    true_pred += np.sum(['NOUN'] * len(words) == tags)\n",
    "    num_pred += len(words)\n",
    "print(\"Accuracy:\", true_pred / num_pred * 100, '%')"
   ]
  },
  {
   "cell_type": "markdown",
   "metadata": {
    "colab_type": "text",
    "id": "Sx2hOi4ab3Jv"
   },
   "source": [
    "Вы можете испоьзовать DefaultTagger(метод tag для предсказания частей речи предложения) или можете преобразовать код выше"
   ]
  },
  {
   "cell_type": "code",
   "execution_count": 0,
   "metadata": {
    "colab": {},
    "colab_type": "code",
    "id": "KB7gYHSjb1PE"
   },
   "outputs": [],
   "source": [
    "from nltk.tag import DefaultTagger\n",
    "default_tagger = DefaultTagger(nltk.FreqDist(tags).max())"
   ]
  },
  {
   "cell_type": "code",
   "execution_count": 106,
   "metadata": {
    "colab": {
     "base_uri": "https://localhost:8080/",
     "height": 34
    },
    "colab_type": "code",
    "id": "ULgeqKz1b4jt",
    "outputId": "9981678a-8256-4ced-e284-1ecb374a0e7f"
   },
   "outputs": [
    {
     "name": "stdout",
     "output_type": "stream",
     "text": [
      "Accuracy: 22.428991185112636 %\n"
     ]
    }
   ],
   "source": [
    "true_pred = 0\n",
    "num_pred = 0\n",
    "\n",
    "for sent in test_sents:\n",
    "    tags = np.array([tag for (word, tag) in sent])\n",
    "    words = np.array([word for (word, tag) in sent])\n",
    "    \n",
    "    tagged_sent = default_tagger.tag(words)\n",
    "    outputs = [tag for token, tag in tagged_sent]\n",
    "    \n",
    "    true_pred += np.sum(outputs == tags)\n",
    "    num_pred += len(words)\n",
    "    \n",
    "print(\"Accuracy:\", true_pred / num_pred * 100, '%')"
   ]
  },
  {
   "cell_type": "markdown",
   "metadata": {
    "colab_type": "text",
    "id": "-T2Yvy8-dih5"
   },
   "source": [
    "## Модель Стенфорда"
   ]
  },
  {
   "cell_type": "markdown",
   "metadata": {
    "colab_type": "text",
    "id": "eOkYrW63dlrF"
   },
   "source": [
    "Скачайте предобученную модель от Стэнфорда: https://nlp.stanford.edu/software/tagger.shtml и примените к тестовым данным. \n",
    "Не забудьте преобразовать систему тэгов из 'en-ptb' в 'universal' с помощью функции map_tag."
   ]
  },
  {
   "cell_type": "code",
   "execution_count": 141,
   "metadata": {
    "colab": {
     "base_uri": "https://localhost:8080/",
     "height": 208
    },
    "colab_type": "code",
    "id": "bY6FATFvb5WG",
    "outputId": "54ef473b-1826-43a9-cf03-166a29d137e3"
   },
   "outputs": [
    {
     "name": "stdout",
     "output_type": "stream",
     "text": [
      "--2020-04-19 22:34:15--  https://nlp.stanford.edu/software/stanford-postagger-full-2018-10-16.zip\n",
      "Resolving nlp.stanford.edu (nlp.stanford.edu)... 171.64.67.140\n",
      "Connecting to nlp.stanford.edu (nlp.stanford.edu)|171.64.67.140|:443... connected.\n",
      "HTTP request sent, awaiting response... 200 OK\n",
      "Length: 134149044 (128M) [application/zip]\n",
      "Saving to: ‘stanford-postagger-full-2018-10-16.zip.1’\n",
      "\n",
      "stanford-postagger- 100%[===================>] 127.93M  62.8MB/s    in 2.0s    \n",
      "\n",
      "2020-04-19 22:34:17 (62.8 MB/s) - ‘stanford-postagger-full-2018-10-16.zip.1’ saved [134149044/134149044]\n",
      "\n"
     ]
    }
   ],
   "source": [
    "!wget https://nlp.stanford.edu/software/stanford-postagger-full-2018-10-16.zip"
   ]
  },
  {
   "cell_type": "code",
   "execution_count": 142,
   "metadata": {
    "colab": {
     "base_uri": "https://localhost:8080/",
     "height": 1000
    },
    "colab_type": "code",
    "id": "KYwmrTB0dhwH",
    "outputId": "abd43fc7-e60e-4a5d-bef9-db31dcdaaf57"
   },
   "outputs": [
    {
     "name": "stdout",
     "output_type": "stream",
     "text": [
      "Archive:  stanford-postagger-full-2018-10-16.zip\n",
      "replace stanford-postagger-full-2018-10-16/README.txt? [y]es, [n]o, [A]ll, [N]one, [r]ename: A\n",
      "  inflating: stanford-postagger-full-2018-10-16/README.txt  \n",
      "  inflating: stanford-postagger-full-2018-10-16/sample-input.txt  \n",
      "  inflating: stanford-postagger-full-2018-10-16/data/enclitic-inflections.data  \n",
      "  inflating: stanford-postagger-full-2018-10-16/build.xml  \n",
      "  inflating: stanford-postagger-full-2018-10-16/stanford-postagger.sh  \n",
      "  inflating: stanford-postagger-full-2018-10-16/stanford-postagger-3.9.2-javadoc.jar  \n",
      "  inflating: stanford-postagger-full-2018-10-16/stanford-postagger-gui.sh  \n",
      "  inflating: stanford-postagger-full-2018-10-16/stanford-postagger.jar  \n",
      "  inflating: stanford-postagger-full-2018-10-16/stanford-postagger.bat  \n",
      "  inflating: stanford-postagger-full-2018-10-16/sample-output.txt  \n",
      "  inflating: stanford-postagger-full-2018-10-16/stanford-postagger-3.9.2-sources.jar  \n",
      "  inflating: stanford-postagger-full-2018-10-16/TaggerDemo2.java  \n",
      "  inflating: stanford-postagger-full-2018-10-16/stanford-postagger-gui.bat  \n",
      "  inflating: stanford-postagger-full-2018-10-16/models/german-ud.tagger  \n",
      "  inflating: stanford-postagger-full-2018-10-16/models/german-fast-caseless.tagger  \n",
      "  inflating: stanford-postagger-full-2018-10-16/models/french-ud.tagger.props  \n",
      "  inflating: stanford-postagger-full-2018-10-16/models/arabic-train.tagger.props  \n",
      "  inflating: stanford-postagger-full-2018-10-16/models/chinese-distsim.tagger  \n",
      "  inflating: stanford-postagger-full-2018-10-16/models/wsj-0-18-bidirectional-distsim.tagger  \n",
      "  inflating: stanford-postagger-full-2018-10-16/models/chinese-nodistsim.tagger.props  \n",
      "  inflating: stanford-postagger-full-2018-10-16/models/english-bidirectional-distsim.tagger.props  \n",
      "  inflating: stanford-postagger-full-2018-10-16/models/wsj-0-18-bidirectional-nodistsim.tagger  \n",
      "  inflating: stanford-postagger-full-2018-10-16/models/wsj-0-18-caseless-left3words-distsim.tagger  \n",
      "  inflating: stanford-postagger-full-2018-10-16/models/chinese-nodistsim.tagger  \n",
      "  inflating: stanford-postagger-full-2018-10-16/models/spanish.tagger  \n",
      "  inflating: stanford-postagger-full-2018-10-16/models/german-fast-caseless.tagger.props  \n",
      "  inflating: stanford-postagger-full-2018-10-16/models/README-Models.txt  \n",
      "  inflating: stanford-postagger-full-2018-10-16/models/spanish-ud.tagger  \n",
      "  inflating: stanford-postagger-full-2018-10-16/models/english-caseless-left3words-distsim.tagger  \n",
      "  inflating: stanford-postagger-full-2018-10-16/models/french.tagger.props  \n",
      "  inflating: stanford-postagger-full-2018-10-16/models/wsj-0-18-left3words-distsim.tagger  \n",
      "  inflating: stanford-postagger-full-2018-10-16/models/english-bidirectional-distsim.tagger  \n",
      "  inflating: stanford-postagger-full-2018-10-16/models/spanish-distsim.tagger.props  \n",
      "  inflating: stanford-postagger-full-2018-10-16/models/english-left3words-distsim.tagger  \n",
      "  inflating: stanford-postagger-full-2018-10-16/models/wsj-0-18-left3words-nodistsim.tagger  \n",
      "  inflating: stanford-postagger-full-2018-10-16/models/wsj-0-18-left3words-nodistsim.tagger.props  \n",
      "  inflating: stanford-postagger-full-2018-10-16/models/french-ud.tagger  \n",
      "  inflating: stanford-postagger-full-2018-10-16/models/wsj-0-18-left3words-distsim.tagger.props  \n",
      "  inflating: stanford-postagger-full-2018-10-16/models/english-caseless-left3words-distsim.tagger.props  \n",
      "  inflating: stanford-postagger-full-2018-10-16/models/arabic.tagger  \n",
      "  inflating: stanford-postagger-full-2018-10-16/models/arabic.tagger.props  \n",
      "  inflating: stanford-postagger-full-2018-10-16/models/german-ud.tagger.props  \n",
      "  inflating: stanford-postagger-full-2018-10-16/models/german-fast.tagger  \n",
      "  inflating: stanford-postagger-full-2018-10-16/models/wsj-0-18-caseless-left3words-distsim.tagger.props  \n",
      "  inflating: stanford-postagger-full-2018-10-16/models/wsj-0-18-bidirectional-distsim.tagger.props  \n",
      "  inflating: stanford-postagger-full-2018-10-16/models/spanish-distsim.tagger  \n",
      "  inflating: stanford-postagger-full-2018-10-16/models/chinese-distsim.tagger.props  \n",
      "  inflating: stanford-postagger-full-2018-10-16/models/wsj-0-18-bidirectional-nodistsim.tagger.props  \n",
      "  inflating: stanford-postagger-full-2018-10-16/models/german-fast.tagger.props  \n",
      "  inflating: stanford-postagger-full-2018-10-16/models/english-left3words-distsim.tagger.props  \n",
      "  inflating: stanford-postagger-full-2018-10-16/models/french.tagger  \n",
      "  inflating: stanford-postagger-full-2018-10-16/models/german-hgc.tagger.props  \n",
      "  inflating: stanford-postagger-full-2018-10-16/models/spanish-ud.tagger.props  \n",
      "  inflating: stanford-postagger-full-2018-10-16/models/arabic-train.tagger  \n",
      "  inflating: stanford-postagger-full-2018-10-16/models/german-hgc.tagger  \n",
      "  inflating: stanford-postagger-full-2018-10-16/models/spanish.tagger.props  \n",
      "  inflating: stanford-postagger-full-2018-10-16/TaggerDemo.java  \n",
      "  inflating: stanford-postagger-full-2018-10-16/stanford-postagger-3.9.2.jar  \n",
      "  inflating: stanford-postagger-full-2018-10-16/LICENSE.txt  \n"
     ]
    }
   ],
   "source": [
    "! unzip 'stanford-postagger-full-2018-10-16.zip'"
   ]
  },
  {
   "cell_type": "code",
   "execution_count": 143,
   "metadata": {
    "colab": {
     "base_uri": "https://localhost:8080/",
     "height": 104
    },
    "colab_type": "code",
    "id": "2J10p_7IdoiP",
    "outputId": "4594cd81-e05c-4c4f-b2f1-6ac248297a06"
   },
   "outputs": [
    {
     "name": "stderr",
     "output_type": "stream",
     "text": [
      "/usr/local/lib/python3.6/dist-packages/nltk/tag/stanford.py:149: DeprecationWarning: \n",
      "The StanfordTokenizer will be deprecated in version 3.2.5.\n",
      "Please use \u001b[91mnltk.tag.corenlp.CoreNLPPOSTagger\u001b[0m or \u001b[91mnltk.tag.corenlp.CoreNLPNERTagger\u001b[0m instead.\n",
      "  super(StanfordPOSTagger, self).__init__(*args, **kwargs)\n"
     ]
    },
    {
     "name": "stdout",
     "output_type": "stream",
     "text": [
      "Ответ:  ['PRON', 'VERB', 'DET', 'NOUN']\n"
     ]
    }
   ],
   "source": [
    "from nltk.tag.stanford import StanfordPOSTagger\n",
    "from nltk.tag.mapping import map_tag\n",
    "\n",
    "# используйте путь до jar и до model\n",
    "jar = '/content/stanford-postagger-full-2018-10-16/stanford-postagger-3.9.2.jar'\n",
    "model = '/content/stanford-postagger-full-2018-10-16/models/english-bidirectional-distsim.tagger'\n",
    "stanford_tagger = StanfordPOSTagger(model, jar, encoding='utf8')\n",
    "\n",
    "# проверим на предложении\n",
    "tagged_sent = stanford_tagger.tag(['I', 'bear', 'a', 'bag'])\n",
    "print('Ответ: ', [map_tag('en-ptb', 'universal', tag) for token, tag in tagged_sent])"
   ]
  },
  {
   "cell_type": "markdown",
   "metadata": {
    "colab_type": "text",
    "id": "SJNvq0wRd7Db"
   },
   "source": [
    "### Вопрос 7:\n",
    "* Какое качество вы получили на модели Стенфорда(округлите до одного знака после запятой)?"
   ]
  },
  {
   "cell_type": "code",
   "execution_count": 70,
   "metadata": {
    "colab": {
     "base_uri": "https://localhost:8080/",
     "height": 34
    },
    "colab_type": "code",
    "id": "O90rmq-mdsN8",
    "outputId": "52428dd9-db2c-47cc-def4-812d87494cce"
   },
   "outputs": [
    {
     "name": "stdout",
     "output_type": "stream",
     "text": [
      "Accuracy: 88.5 процентов\n"
     ]
    }
   ],
   "source": [
    "true_pred = 0\n",
    "num_pred = 0\n",
    "\n",
    "for sent in test_sents:\n",
    "    tags = np.array([tag for (word, tag) in sent])\n",
    "    words = np.array([word for (word, tag) in sent])\n",
    "    \n",
    "    tagged_sent = stanford_tagger.tag(words)\n",
    "    outputs = [map_tag('en-ptb', 'universal', tag) for token, tag in tagged_sent]\n",
    "    \n",
    "    true_pred += np.sum(outputs == tags)\n",
    "    num_pred += len(words)\n",
    "    \n",
    "print(\"Accuracy: %.1f процентов\" % (true_pred / num_pred * 100))"
   ]
  },
  {
   "cell_type": "markdown",
   "metadata": {
    "colab_type": "text",
    "id": "2q3nWCQ0eKgw"
   },
   "source": [
    "## BiLSTMTagger"
   ]
  },
  {
   "cell_type": "markdown",
   "metadata": {
    "colab_type": "text",
    "id": "j7dxSC7jeNCC"
   },
   "source": [
    "Для того, чтобы успешнее справиться с дальнейшей частью, вам лучше обратиться к семинару 3(Language Model)"
   ]
  },
  {
   "cell_type": "markdown",
   "metadata": {
    "colab_type": "text",
    "id": "Qh19TolFeOWn"
   },
   "source": [
    "### Подготовка данных"
   ]
  },
  {
   "cell_type": "markdown",
   "metadata": {
    "colab_type": "text",
    "id": "JXmVMbzkeP_-"
   },
   "source": [
    "Изменим структуру данных"
   ]
  },
  {
   "cell_type": "code",
   "execution_count": 144,
   "metadata": {
    "colab": {
     "base_uri": "https://localhost:8080/",
     "height": 54
    },
    "colab_type": "code",
    "id": "fQ_OaZ-Gd4KL",
    "outputId": "caaa4b07-35da-4f62-9025-29d41e9014f5"
   },
   "outputs": [
    {
     "name": "stdout",
     "output_type": "stream",
     "text": [
      "[('The', 'Fulton', 'County', 'Grand', 'Jury', 'said', 'Friday', 'an', 'investigation', 'of', \"Atlanta's\", 'recent', 'primary', 'election', 'produced', '``', 'no', 'evidence', \"''\", 'that', 'any', 'irregularities', 'took', 'place', '.'), ('DET', 'NOUN', 'NOUN', 'ADJ', 'NOUN', 'VERB', 'NOUN', 'DET', 'NOUN', 'ADP', 'NOUN', 'ADJ', 'NOUN', 'NOUN', 'VERB', '.', 'DET', 'NOUN', '.', 'ADP', 'DET', 'NOUN', 'VERB', 'NOUN', '.')]\n"
     ]
    }
   ],
   "source": [
    "pos_data = [list(zip(*sent)) for sent in brown_tagged_sents]\n",
    "print(pos_data[0])"
   ]
  },
  {
   "cell_type": "markdown",
   "metadata": {
    "colab_type": "text",
    "id": "jv1cgte7ic7D"
   },
   "source": [
    "До этого мы писали много кода сами, теперь пора эксплуатировать pytorch"
   ]
  },
  {
   "cell_type": "code",
   "execution_count": 0,
   "metadata": {
    "colab": {},
    "colab_type": "code",
    "id": "9Or2J4wHeRUt"
   },
   "outputs": [],
   "source": [
    "from torchtext.data import Field, BucketIterator\n",
    "import torchtext\n",
    "\n",
    "# наши поля\n",
    "WORD = Field(lower=True)\n",
    "TAG = Field(unk_token=None) # все токены нам извсетны\n",
    "\n",
    "# создаем примеры\n",
    "examples = []\n",
    "for words, tags in pos_data:\n",
    "    examples.append(torchtext.data.Example.fromlist([list(words), list(tags)], fields=[('words', WORD), ('tags', TAG)]))"
   ]
  },
  {
   "cell_type": "markdown",
   "metadata": {
    "colab_type": "text",
    "id": "Y1T-vyCnigKu"
   },
   "source": [
    "Теперь формируем наш датасет"
   ]
  },
  {
   "cell_type": "code",
   "execution_count": 146,
   "metadata": {
    "colab": {
     "base_uri": "https://localhost:8080/",
     "height": 69
    },
    "colab_type": "code",
    "id": "6wSQreMDieaM",
    "outputId": "daf0a38a-2ab9-41ee-e913-166b03088bf0"
   },
   "outputs": [
    {
     "name": "stdout",
     "output_type": "stream",
     "text": [
      "Number of training examples: 45872\n",
      "Number of validation examples: 5734\n",
      "Number of testing examples: 5734\n"
     ]
    }
   ],
   "source": [
    "# кладем примеры в наш датасет\n",
    "dataset = torchtext.data.Dataset(examples, fields=[('words', WORD), ('tags', TAG)])\n",
    "\n",
    "train_data, valid_data, test_data = dataset.split(split_ratio=[0.8, 0.1, 0.1])\n",
    "\n",
    "print(f\"Number of training examples: {len(train_data.examples)}\")\n",
    "print(f\"Number of validation examples: {len(valid_data.examples)}\")\n",
    "print(f\"Number of testing examples: {len(test_data.examples)}\")"
   ]
  },
  {
   "cell_type": "code",
   "execution_count": 147,
   "metadata": {
    "colab": {
     "base_uri": "https://localhost:8080/",
     "height": 106
    },
    "colab_type": "code",
    "id": "jVsuLDnVihvb",
    "outputId": "1fe7297e-f685-4727-c82b-accc72b42871"
   },
   "outputs": [
    {
     "name": "stdout",
     "output_type": "stream",
     "text": [
      "Unique tokens in source (ru) vocabulary: 24739\n",
      "Unique tokens in target (en) vocabulary: 13\n",
      "['<unk>', 'away', 'major', 'indeed', 'association', 'visit', 'add', 'enter', \"they're\", 'experiment', 'grew', 'rear', 'answers', 'consists', 'pike', 'serves', 'swift', 'argue', 'survival', 'eugene', 'noon', \"weren't\", 'allowances', \"b'dikkat\", 'acted', 'servant', 'peered', 'females', 'visits', 'ivory', 'arriving', 'midst', 'beowulf', 'media', 'vigor', 'extends', 'relieve', 'calhoun', 'irregular', 'simmons', 'bleak', 'fuller', 'pathetic', 'treating', 'centimeters', 'fidelity', 'metropolis', 'shelley', 'accruing', 'confirmation', 'fritzie', 'meyer', 'reckless', 'sunk', 'acala', 'burnt', 'diluted', 'gallons', 'knelt', 'penetrated', 'runaway', 'thankful', '1817', 'badge', 'collins', 'dorset', 'frelinghuysen', 'inaccurate', \"lyford's\", 'overheard', 'realtor', 'slacks', 'tomato', '$45', 'amidst', 'black-body', 'checking', 'crowing', 'doorstep', 'fencing', 'gravy', 'indiscriminate', \"league's\", 'misconception', \"orleans'\", 'potentiality', 'remotely', 'shimmering', 'stoneware', 'tolls', 'wailed', '160,000', 'abler', 'anti-aircraft', 'batter', 'borderline', 'carload', 'closeups', \"cook's\", 'deae', 'discretionary', 'electrocardiograph', 'fables', 'formalized', 'goddam', 'heightening', 'impassable', 'irritably', 'ld', 'mailer', 'mischa', 'newlyweds', 'outbreaks', 'petrified', 'priam', 'reappeared', 'rinker', 'sedately', 'sluggers', 'stephenson', 'tapestries', 'trench', 'upgrading', 'whacked']\n",
      "['<pad>', 'NOUN', 'VERB', '.', 'ADP', 'DET', 'ADJ', 'ADV', 'PRON', 'CONJ', 'PRT', 'NUM', 'X']\n"
     ]
    }
   ],
   "source": [
    "WORD.build_vocab(train_data, min_freq=2)\n",
    "TAG.build_vocab(train_data)\n",
    "\n",
    "print(f\"Unique tokens in source (ru) vocabulary: {len(WORD.vocab)}\")\n",
    "print(f\"Unique tokens in target (en) vocabulary: {len(TAG.vocab)}\")\n",
    "\n",
    "print(WORD.vocab.itos[::200])\n",
    "print(TAG.vocab.itos)"
   ]
  },
  {
   "cell_type": "code",
   "execution_count": 148,
   "metadata": {
    "colab": {
     "base_uri": "https://localhost:8080/",
     "height": 34
    },
    "colab_type": "code",
    "id": "Y-2913q7iol2",
    "outputId": "1bc702f2-c9e4-4998-e729-679b0278dd5d"
   },
   "outputs": [
    {
     "name": "stdout",
     "output_type": "stream",
     "text": [
      "{'words': ['missionary', 'explains'], 'tags': ['NOUN', 'VERB']}\n"
     ]
    }
   ],
   "source": [
    "print(vars(train_data.examples[9]))"
   ]
  },
  {
   "cell_type": "code",
   "execution_count": 149,
   "metadata": {
    "colab": {
     "base_uri": "https://localhost:8080/",
     "height": 281
    },
    "colab_type": "code",
    "id": "iz90qzaoir9o",
    "outputId": "0738704a-3e23-4990-8b65-491bf2adc13d"
   },
   "outputs": [
    {
     "data": {
      "image/png": "[encoded data removed]",
      "text/plain": [
       "<Figure size 576x288 with 1 Axes>"
      ]
     },
     "metadata": {
      "needs_background": "light",
      "tags": []
     },
     "output_type": "display_data"
    }
   ],
   "source": [
    "length = map(len, [vars(x)['words'] for x in train_data.examples])\n",
    "\n",
    "plt.figure(figsize=[8, 4])\n",
    "plt.title(\"Length distribution in Train data\")\n",
    "plt.hist(list(length), bins=20);"
   ]
  },
  {
   "cell_type": "markdown",
   "metadata": {
    "colab_type": "text",
    "id": "hrSgPUTZivyj"
   },
   "source": [
    "Для обучения `BiLSTM` лучше использовать colab"
   ]
  },
  {
   "cell_type": "code",
   "execution_count": 150,
   "metadata": {
    "colab": {
     "base_uri": "https://localhost:8080/",
     "height": 34
    },
    "colab_type": "code",
    "id": "2UCES4CViuGb",
    "outputId": "9975df73-4c77-43e9-a40a-db4c50dbe0c5"
   },
   "outputs": [
    {
     "data": {
      "text/plain": [
       "device(type='cuda')"
      ]
     },
     "execution_count": 150,
     "metadata": {
      "tags": []
     },
     "output_type": "execute_result"
    }
   ],
   "source": [
    "import torch\n",
    "from torch import nn\n",
    "import torch.nn.functional as F\n",
    "import torch.optim as optim\n",
    "\n",
    "device = torch.device('cuda' if torch.cuda.is_available() else 'cpu')\n",
    "device"
   ]
  },
  {
   "cell_type": "code",
   "execution_count": 0,
   "metadata": {
    "colab": {},
    "colab_type": "code",
    "id": "q5vSVolsiw-b"
   },
   "outputs": [],
   "source": [
    "# бьем нашу выборку на батч, не забывая сначала отсортировать выборку по длине\n",
    "def _len_sort_key(x):\n",
    "    return len(x.words)\n",
    "\n",
    "BATCH_SIZE = 32\n",
    "\n",
    "train_iterator, valid_iterator, test_iterator = BucketIterator.splits(\n",
    "    (train_data, valid_data, test_data), \n",
    "    batch_size = BATCH_SIZE, \n",
    "    device = device,\n",
    "    sort_key=_len_sort_key\n",
    ")"
   ]
  },
  {
   "cell_type": "code",
   "execution_count": 152,
   "metadata": {
    "colab": {
     "base_uri": "https://localhost:8080/",
     "height": 34
    },
    "colab_type": "code",
    "id": "9Azk8Xktiyq8",
    "outputId": "924151ed-2b41-4d42-91c5-453a077feeb2"
   },
   "outputs": [
    {
     "data": {
      "text/plain": [
       "[1434, 180, 180]"
      ]
     },
     "execution_count": 152,
     "metadata": {
      "tags": []
     },
     "output_type": "execute_result"
    }
   ],
   "source": [
    "# посморим  на количество батчей\n",
    "list(map(len, [train_iterator, valid_iterator, test_iterator]))"
   ]
  },
  {
   "cell_type": "markdown",
   "metadata": {
    "colab_type": "text",
    "id": "jBF5RnGti3HH"
   },
   "source": [
    "### Модель и её обучение"
   ]
  },
  {
   "cell_type": "markdown",
   "metadata": {
    "colab_type": "text",
    "id": "vPyCHPxfi6S3"
   },
   "source": [
    "Инициализируем нашу модель"
   ]
  },
  {
   "cell_type": "code",
   "execution_count": 153,
   "metadata": {
    "colab": {
     "base_uri": "https://localhost:8080/",
     "height": 121
    },
    "colab_type": "code",
    "id": "Ogs6tTWti0p9",
    "outputId": "69a6b889-fec0-4a1f-ff7b-e7517eb4cbf3"
   },
   "outputs": [
    {
     "data": {
      "text/plain": [
       "LSTMTagger(\n",
       "  (embeddings): Embedding(24739, 200)\n",
       "  (dropout): Dropout(p=0.5, inplace=False)\n",
       "  (rnn): LSTM(200, 128, num_layers=2, dropout=0.5, bidirectional=True)\n",
       "  (tag): Linear(in_features=256, out_features=13, bias=True)\n",
       ")"
      ]
     },
     "execution_count": 153,
     "metadata": {
      "tags": []
     },
     "output_type": "execute_result"
    }
   ],
   "source": [
    "class LSTMTagger(nn.Module):\n",
    "\n",
    "    def __init__(self, input_dim, emb_dim, hid_dim, output_dim, dropout, bidirectional=False):\n",
    "        super().__init__()\n",
    "        \n",
    "  \n",
    "        self.embeddings = nn.Embedding(input_dim, emb_dim)\n",
    "        self.dropout = nn.Dropout(p=dropout)\n",
    "        \n",
    "        self.rnn = nn.LSTM(emb_dim, hid_dim, bidirectional=bidirectional, dropout=dropout, num_layers = 2)\n",
    "        self.tag = nn.Linear((1 + bidirectional) * hid_dim, output_dim)\n",
    "\n",
    "    def forward(self, sent):\n",
    "        \n",
    "        #sent = [sent len, batch size] \n",
    "        \n",
    "        # не забываем применить dropout к embedding\n",
    "        embedded = self.dropout(self.embeddings(sent))\n",
    "\n",
    "        output, _ = self.rnn(embedded)\n",
    "        #output = [sent len, batch size, hid dim * n directions]\n",
    "\n",
    "        prediction = self.tag(output)\n",
    "    \n",
    "        return prediction\n",
    "        \n",
    "# параметры модели\n",
    "INPUT_DIM = len(WORD.vocab)\n",
    "OUTPUT_DIM = len(TAG.vocab)\n",
    "EMB_DIM = 200\n",
    "HID_DIM = 128\n",
    "DROPOUT = 0.5\n",
    "BIDIRECTIONAL = True\n",
    "\n",
    "model = LSTMTagger(input_dim=INPUT_DIM, emb_dim=EMB_DIM,\n",
    "                   hid_dim=HID_DIM, output_dim=OUTPUT_DIM,dropout=DROPOUT, bidirectional=BIDIRECTIONAL).to(device)\n",
    "\n",
    "# инициализируем веса\n",
    "def init_weights(m):\n",
    "    for name, param in m.named_parameters():\n",
    "        nn.init.uniform_(param, -0.08, 0.08)\n",
    "        \n",
    "model.apply(init_weights)"
   ]
  },
  {
   "cell_type": "markdown",
   "metadata": {
    "colab_type": "text",
    "id": "BRB5sG6ejuhE"
   },
   "source": [
    "Подсчитаем количество обучаемых параметров нашей модели"
   ]
  },
  {
   "cell_type": "code",
   "execution_count": 154,
   "metadata": {
    "colab": {
     "base_uri": "https://localhost:8080/",
     "height": 34
    },
    "colab_type": "code",
    "id": "zwy8slT8i7ob",
    "outputId": "3d042563-37e8-4a10-98bb-56f110ed8146"
   },
   "outputs": [
    {
     "name": "stdout",
     "output_type": "stream",
     "text": [
      "The model has 5,684,325 trainable parameters\n"
     ]
    }
   ],
   "source": [
    "def count_parameters(model):\n",
    "    return sum(p.numel() for p in model.parameters() if p.requires_grad)\n",
    "\n",
    "print(f'The model has {count_parameters(model):,} trainable parameters')"
   ]
  },
  {
   "cell_type": "markdown",
   "metadata": {
    "colab_type": "text",
    "id": "HKetf6qzjv8f"
   },
   "source": [
    "Наша модель готова, осталось сформировать loss. На семинаре мы искали loss таким образом:"
   ]
  },
  {
   "cell_type": "code",
   "execution_count": 155,
   "metadata": {
    "colab": {
     "base_uri": "https://localhost:8080/",
     "height": 34
    },
    "colab_type": "code",
    "id": "uzN2PNOLj53A",
    "outputId": "5bd3f468-7d29-47de-ae71-f58f407ff289"
   },
   "outputs": [
    {
     "data": {
      "text/plain": [
       "tensor(2.5218, device='cuda:0', grad_fn=<NegBackward>)"
      ]
     },
     "execution_count": 155,
     "metadata": {
      "tags": []
     },
     "output_type": "execute_result"
    }
   ],
   "source": [
    "for x in train_iterator:\n",
    "    break\n",
    "    \n",
    "output = model(x.words)\n",
    "logp = torch.gather(F.log_softmax(output, -1), dim=2, index=x.tags[:,:,None])\n",
    "-logp.mean()"
   ]
  },
  {
   "cell_type": "markdown",
   "metadata": {
    "colab_type": "text",
    "id": "r0gpmlf3j7We"
   },
   "source": [
    "Сейчас мы не будем выбирать только нужные объекты, а сразу воспользуемся помощью pytorch"
   ]
  },
  {
   "cell_type": "code",
   "execution_count": 156,
   "metadata": {
    "colab": {
     "base_uri": "https://localhost:8080/",
     "height": 34
    },
    "colab_type": "code",
    "id": "uUJDMxXij6HF",
    "outputId": "96fa470b-b6db-4424-e2c4-3da03848e295"
   },
   "outputs": [
    {
     "data": {
      "text/plain": [
       "tensor(2.5218, device='cuda:0', grad_fn=<NllLossBackward>)"
      ]
     },
     "execution_count": 156,
     "metadata": {
      "tags": []
     },
     "output_type": "execute_result"
    }
   ],
   "source": [
    "criterion = nn.CrossEntropyLoss()\n",
    "criterion(output.view(-1, output.shape[-1]), x.tags.view(-1))"
   ]
  },
  {
   "cell_type": "markdown",
   "metadata": {
    "colab_type": "text",
    "id": "EhNQ_97Oj-Lv"
   },
   "source": [
    "Погнали обучать"
   ]
  },
  {
   "cell_type": "code",
   "execution_count": 0,
   "metadata": {
    "colab": {},
    "colab_type": "code",
    "id": "tltNs_BDj8Zg"
   },
   "outputs": [],
   "source": [
    "PAD_IDX = TAG.vocab.stoi['<pad>']\n",
    "optimizer = optim.Adam(model.parameters())\n",
    "criterion = nn.CrossEntropyLoss(ignore_index = PAD_IDX)\n",
    "\n",
    "def train(model, iterator, optimizer, criterion, clip, train_history=None, valid_history=None):\n",
    "    model.train()\n",
    "    \n",
    "    epoch_loss = 0\n",
    "    history = []\n",
    "    for i, batch in enumerate(iterator):\n",
    "        \n",
    "        text = batch.words\n",
    "        tags = batch.tags\n",
    "        \n",
    "        optimizer.zero_grad()\n",
    "        \n",
    "        output = model(text)\n",
    "        \n",
    "        #tags = [sent len, batch size]\n",
    "        #output = [sent len, batch size, output dim]\n",
    "        \n",
    "        output = output.view(-1, output.shape[-1])\n",
    "        tags = tags.view(-1)\n",
    "        \n",
    "        #tags = [sent len * batch size]\n",
    "        #output = [sent len * batch size, output dim]\n",
    "        \n",
    "        loss = criterion(output, tags)\n",
    "        \n",
    "        loss.backward()\n",
    "        \n",
    "        # Gradient clipping(решение проблемы взрыва граденты), clip - максимальная норма вектора\n",
    "        torch.nn.utils.clip_grad_norm_(model.parameters(), max_norm=clip)\n",
    "        \n",
    "        optimizer.step()\n",
    "        \n",
    "        epoch_loss += loss.item()\n",
    "        \n",
    "        history.append(loss.cpu().data.numpy())\n",
    "        if (i+1)%10==0:\n",
    "            fig, ax = plt.subplots(nrows=1, ncols=2, figsize=(12, 8))\n",
    "\n",
    "            clear_output(True)\n",
    "            ax[0].plot(history, label='train loss')\n",
    "            ax[0].set_xlabel('Batch')\n",
    "            ax[0].set_title('Train loss')\n",
    "            \n",
    "            if train_history is not None:\n",
    "                ax[1].plot(train_history, label='general train history')\n",
    "                ax[1].set_xlabel('Epoch')\n",
    "            if valid_history is not None:\n",
    "                ax[1].plot(valid_history, label='general valid history')\n",
    "            plt.legend()\n",
    "            \n",
    "            plt.show()\n",
    "\n",
    "        \n",
    "    return epoch_loss / len(iterator)\n",
    "\n",
    "def evaluate(model, iterator, criterion):\n",
    "    model.eval()\n",
    "    \n",
    "    epoch_loss = 0\n",
    "    \n",
    "    history = []\n",
    "    \n",
    "    with torch.no_grad():\n",
    "    \n",
    "        for i, batch in enumerate(iterator):\n",
    "\n",
    "            text = batch.words\n",
    "            tags = batch.tags\n",
    "\n",
    "            output = model(text)\n",
    "\n",
    "            #tags = [sent len, batch size]\n",
    "            #output = [sent len, batch size, output dim]\n",
    "\n",
    "            output = output.view(-1, output.shape[-1])\n",
    "            tags = tags.view(-1)\n",
    "\n",
    "            #tags = [sent len * batch size]\n",
    "            #output = [sent len * batch size, output dim]\n",
    "\n",
    "            loss = criterion(output, tags)\n",
    "            \n",
    "            epoch_loss += loss.item()\n",
    "        \n",
    "    return epoch_loss / len(iterator)\n",
    "\n",
    "def epoch_time(start_time, end_time):\n",
    "    elapsed_time = end_time - start_time\n",
    "    elapsed_mins = int(elapsed_time / 60)\n",
    "    elapsed_secs = int(elapsed_time - (elapsed_mins * 60))\n",
    "    return elapsed_mins, elapsed_secs"
   ]
  },
  {
   "cell_type": "code",
   "execution_count": 158,
   "metadata": {
    "colab": {
     "base_uri": "https://localhost:8080/",
     "height": 565
    },
    "colab_type": "code",
    "id": "AQVmsS3WkQKp",
    "outputId": "24a0a313-83e5-4cfa-ab13-33cd9f4fa392"
   },
   "outputs": [
    {
     "data": {
      "image/png": "[encoded data removed]",
      "text/plain": [
       "<Figure size 864x576 with 2 Axes>"
      ]
     },
     "metadata": {
      "needs_background": "light",
      "tags": []
     },
     "output_type": "display_data"
    },
    {
     "name": "stdout",
     "output_type": "stream",
     "text": [
      "Epoch: 20 | Time: 1m 16s\n",
      "\tTrain Loss: 0.015 | Train PPL:   1.016\n",
      "\t Val. Loss: 0.107 |  Val. PPL:   1.113\n"
     ]
    }
   ],
   "source": [
    "import time\n",
    "import math\n",
    "import matplotlib\n",
    "matplotlib.rcParams.update({'figure.figsize': (16, 12), 'font.size': 14})\n",
    "import matplotlib.pyplot as plt\n",
    "%matplotlib inline\n",
    "from IPython.display import clear_output\n",
    "\n",
    "train_history = []\n",
    "valid_history = []\n",
    "\n",
    "N_EPOCHS = 20\n",
    "CLIP = 1\n",
    "\n",
    "best_valid_loss = float('inf')\n",
    "\n",
    "for epoch in range(N_EPOCHS):\n",
    "    \n",
    "    start_time = time.time()\n",
    "    \n",
    "    train_loss = train(model, train_iterator, optimizer, criterion, CLIP, train_history, valid_history)\n",
    "    valid_loss = evaluate(model, valid_iterator, criterion)\n",
    "    \n",
    "    end_time = time.time()\n",
    "    \n",
    "    epoch_mins, epoch_secs = epoch_time(start_time, end_time)\n",
    "    \n",
    "    if valid_loss < best_valid_loss:\n",
    "        best_valid_loss = valid_loss\n",
    "        torch.save(model.state_dict(), 'best-val-model.pt')\n",
    "\n",
    "    train_history.append(train_loss)\n",
    "    valid_history.append(valid_loss)\n",
    "    print(f'Epoch: {epoch+1:02} | Time: {epoch_mins}m {epoch_secs}s')\n",
    "    print(f'\\tTrain Loss: {train_loss:.3f} | Train PPL: {math.exp(train_loss):7.3f}')\n",
    "    print(f'\\t Val. Loss: {valid_loss:.3f} |  Val. PPL: {math.exp(valid_loss):7.3f}')"
   ]
  },
  {
   "cell_type": "markdown",
   "metadata": {
    "colab_type": "text",
    "id": "WcWQSKF0kiNq"
   },
   "source": [
    "### Применение модели"
   ]
  },
  {
   "cell_type": "code",
   "execution_count": 0,
   "metadata": {
    "colab": {},
    "colab_type": "code",
    "id": "VmOeiA_nkVsO"
   },
   "outputs": [],
   "source": [
    "def accuracy_model(model, iterator):\n",
    "    model.eval()\n",
    "    \n",
    "    true_pred = 0\n",
    "    num_pred = 0\n",
    "    \n",
    "    with torch.no_grad():\n",
    "        for i, batch in enumerate(iterator):\n",
    "\n",
    "            text = batch.words\n",
    "            tags = batch.tags\n",
    "\n",
    "            output = model(text)\n",
    "            \n",
    "            #output = [sent len, batch size, output dim]\n",
    "            output = output.argmax(-1)\n",
    "            \n",
    "            #output = [sent len, batch size]\n",
    "            predict_tags = output.cpu().numpy()\n",
    "            true_tags = tags.cpu().numpy()\n",
    "\n",
    "            true_pred += np.sum((true_tags == predict_tags) & (true_tags != PAD_IDX))\n",
    "            num_pred += np.prod(tags.shape)\n",
    "        \n",
    "    return round(true_pred / num_pred * 100, 3)"
   ]
  },
  {
   "cell_type": "code",
   "execution_count": 160,
   "metadata": {
    "colab": {
     "base_uri": "https://localhost:8080/",
     "height": 34
    },
    "colab_type": "code",
    "id": "l7YmAiMfkne1",
    "outputId": "ea3b5244-7f1c-4ab7-ee38-96ab2aa0881c"
   },
   "outputs": [
    {
     "name": "stdout",
     "output_type": "stream",
     "text": [
      "Accuracy: 96.09 %\n"
     ]
    }
   ],
   "source": [
    "print(\"Accuracy:\", accuracy_model(model, test_iterator), '%')"
   ]
  },
  {
   "cell_type": "code",
   "execution_count": 0,
   "metadata": {
    "colab": {},
    "colab_type": "code",
    "id": "c_V1pRbJkqdk"
   },
   "outputs": [],
   "source": [
    "brown_tagged_sents = brown.tagged_sents(tagset=\"universal\")"
   ]
  },
  {
   "cell_type": "code",
   "execution_count": 0,
   "metadata": {
    "colab": {},
    "colab_type": "code",
    "id": "UQJRBsUBkxeZ"
   },
   "outputs": [],
   "source": [
    "best_model = LSTMTagger(INPUT_DIM, EMB_DIM, HID_DIM, OUTPUT_DIM, DROPOUT, BIDIRECTIONAL).to(device)\n",
    "best_model.load_state_dict(torch.load('best-val-model.pt'))\n",
    "assert accuracy_model(best_model, test_iterator) >= 92"
   ]
  },
  {
   "cell_type": "code",
   "execution_count": 0,
   "metadata": {
    "colab": {},
    "colab_type": "code",
    "id": "8CbXOISgkzO7"
   },
   "outputs": [],
   "source": [
    "def print_tags(model, data):\n",
    "    model.eval()\n",
    "    \n",
    "    with torch.no_grad():\n",
    "        words, _ = data\n",
    "        example = torch.LongTensor([WORD.vocab.stoi[elem] for elem in words]).unsqueeze(1).to(device)\n",
    "        \n",
    "        output = model(example).argmax(dim=-1).cpu().numpy()\n",
    "        tags = [TAG.vocab.itos[int(elem)] for elem in output]\n",
    "\n",
    "        for token, tag in zip(words, tags):\n",
    "            print(f'{token:15s}{tag}')"
   ]
  },
  {
   "cell_type": "code",
   "execution_count": 164,
   "metadata": {
    "colab": {
     "base_uri": "https://localhost:8080/",
     "height": 433
    },
    "colab_type": "code",
    "id": "H1Qm4Yjxk7LN",
    "outputId": "057401b4-573a-4aa2-9577-2a90b2d1711a"
   },
   "outputs": [
    {
     "name": "stdout",
     "output_type": "stream",
     "text": [
      "From           ADV\n",
      "what           DET\n",
      "I              NOUN\n",
      "was            VERB\n",
      "able           ADJ\n",
      "to             PRT\n",
      "gauge          VERB\n",
      "in             ADP\n",
      "a              DET\n",
      "swift          ADJ\n",
      ",              .\n",
      "greedy         ADJ\n",
      "glance         NOUN\n",
      ",              .\n",
      "the            DET\n",
      "figure         NOUN\n",
      "inside         ADP\n",
      "the            DET\n",
      "coral-colored  NOUN\n",
      "boucle         X\n",
      "dress          NOUN\n",
      "was            VERB\n",
      "stupefying     NOUN\n",
      ".              .\n"
     ]
    }
   ],
   "source": [
    "print_tags(model, pos_data[-1])"
   ]
  }
 ],
 "metadata": {
  "accelerator": "GPU",
  "colab": {
   "collapsed_sections": [],
   "name": "Language models HT2.ipynb",
   "provenance": []
  },
  "kernelspec": {
   "display_name": "Python 3",
   "language": "python",
   "name": "python3"
  },
  "language_info": {
   "codemirror_mode": {
    "name": "ipython",
    "version": 3
   },
   "file_extension": ".py",
   "mimetype": "text/x-python",
   "name": "python",
   "nbconvert_exporter": "python",
   "pygments_lexer": "ipython3",
   "version": "3.7.1"
  }
 },
 "nbformat": 4,
 "nbformat_minor": 1
}
