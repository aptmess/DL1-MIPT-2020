{
 "cells": [
  {
   "cell_type": "markdown",
   "metadata": {},
   "source": [
    "## Bootstrap"
   ]
  },
  {
   "cell_type": "code",
   "execution_count": 1,
   "metadata": {},
   "outputs": [],
   "source": [
    "import numpy as np \n",
    "import glob\n",
    "import pandas as pd\n",
    "import matplotlib.pyplot as plt\n",
    "import seaborn as sns\n",
    "import scipy\n",
    "%matplotlib inline"
   ]
  },
  {
   "cell_type": "markdown",
   "metadata": {},
   "source": [
    "Дана выборка из генеральной совокупности и необходимо оценить выбоочное среднее $\\theta$. Сформируем $N$ подвыборок, которые будут формироваться случайным выбором с возвращением, выбранные элементы исходной выборки возвращаются в выборку и далее могут быть использованы снова.\n",
    "\n",
    "Формально на каждом шаге мы выбираем жлемент исходной выборки с вероятностью $\\frac{1}{n}$, поэтому из генеральной совокупности будут *не выбраны*:\n",
    "$$\\lim\\limits_{n\\ \\to \\infty} \\left(1-\\frac{1}{n}\\right)^n = e^{-1} \\approx 0.36$$\n",
    "\n",
    "Для построения доверительного интервала:\n",
    "\n",
    "- построим $m=1000$ подвыборок с возвращением\n",
    "- посчитаем для каждой выборке:\n",
    "    - выборочное среднее: $$\\bar{X} = \\frac{1}{n}\\sum_{i=1}^n x_i$$\n",
    "    - выборочное стандартное отклонение (standard deviation (SD)): $$S_0=\\sqrt{\\frac{n}{n-1}S^2}=\\sqrt{\\frac{1}{n-1}\\sum_{i=1}^n\\left(x_i-\\overline{x}\\right)^2}$$\n",
    "    - посчитаем Standard Error of Mean - $$SEM = \\frac{S_0}{\\sqrt{n}}$$\n",
    "\n",
    "Результатом будет являться:\n",
    "$$E\\xi : \\overline{X} \\mp SEM$$"
   ]
  },
  {
   "cell_type": "markdown",
   "metadata": {},
   "source": [
    "## Functions"
   ]
  },
  {
   "cell_type": "code",
   "execution_count": 2,
   "metadata": {},
   "outputs": [],
   "source": [
    "def sample_bootstrap(data, n_samples):\n",
    "    '''\n",
    "    функция реализует возвращение подвыборок из генеральной совокупности\n",
    "    \n",
    "    ----\n",
    "    \n",
    "    data - исходные данные\n",
    "    n_samples - количество разбиений \n",
    "    \n",
    "    output: индексы элементов\n",
    "    '''\n",
    "    n = len(data)\n",
    "    idx = np.random.randint(low = 0, high = n, size = (n_samples, n))\n",
    "    samples = data[idx]\n",
    "    return samples\n",
    "\n",
    "def stat_intervals(stat,alpha=0.05):\n",
    "    '''\n",
    "    функция возвращает доверительный интервал вторым способом\n",
    "    \n",
    "    alpha - доверительный уровень\n",
    "    \n",
    "    stat - массив статистик (средних в нашем случае)\n",
    "    \n",
    "    '''\n",
    "    bound = np.percentile(sorted(stat),[100*alpha/2.,100*(1-alpha/2.)])\n",
    "    \n",
    "    return bound"
   ]
  },
  {
   "cell_type": "markdown",
   "metadata": {},
   "source": [
    "### Preprocessing"
   ]
  },
  {
   "cell_type": "code",
   "execution_count": 3,
   "metadata": {},
   "outputs": [],
   "source": [
    "directory = 'data/*.txt' \n",
    "files = glob.glob(directory)\n",
    "\n",
    "for i, file in enumerate(files):\n",
    "    exec(f\"x_{i} = pd.read_csv(files[i], header=None, sep = '\\t',names = {[str(file)]}, decimal=',') \")"
   ]
  },
  {
   "cell_type": "markdown",
   "metadata": {},
   "source": [
    "## Results"
   ]
  },
  {
   "cell_type": "code",
   "execution_count": 9,
   "metadata": {},
   "outputs": [],
   "source": [
    "# np.random.seed(0)\n",
    "alpha = 0.05\n",
    "result = pd.DataFrame(columns = [r'mean: $\\overline{X}$', r'SEM: $\\frac{S_0}{\\sqrt{n}}$', r'E$\\xi$: mean $\\mp$ sem'])\n",
    "a = np.array([])\n",
    "\n",
    "for i,x in enumerate([x_0,x_1,x_2,x_3,x_4,x_5,x_6,x_7,x_8]):\n",
    "    \n",
    "    x_0_mean_score = np.array(list(map(np.mean, sample_bootstrap(x.values,100000)))) #bootstrap выборки\n",
    "    x_0_standard_deviation_score = np.array(list(map(np.std, sample_bootstrap(x.values,100000)))) #bootstrap выборки\n",
    "    \n",
    "    mean_bootstrap = np.mean(x_0_mean_score) #среднее по boostratrp средним\n",
    "    standard_deviation_bootstrap = np.mean(x_0_standard_deviation_score) #среднее по boostratrp средним\n",
    "    \n",
    "#     left = mean_bootstrap - standard_deviation_bootstrap/np.sqrt(x.values)  #левая граница 1-ого способа\n",
    "#     right = mean_bootstrap +  standard_deviation_bootstrap/np.sqrt(x.values) #правая граница 2-ого способа\n",
    "    standatd_error_of_mean = standard_deviation_bootstrap/np.sqrt(len(x.values))\n",
    "    results = f'{mean_bootstrap:.4} $\\mp$ {standatd_error_of_mean:.4}'\n",
    "    \n",
    "    result.loc[x.columns[0]]=np.array([ mean_bootstrap,  standatd_error_of_mean, results])"
   ]
  },
  {
   "cell_type": "code",
   "execution_count": 10,
   "metadata": {},
   "outputs": [
    {
     "data": {
      "text/html": [
       "<div>\n",
       "<style scoped>\n",
       "    .dataframe tbody tr th:only-of-type {\n",
       "        vertical-align: middle;\n",
       "    }\n",
       "\n",
       "    .dataframe tbody tr th {\n",
       "        vertical-align: top;\n",
       "    }\n",
       "\n",
       "    .dataframe thead th {\n",
       "        text-align: right;\n",
       "    }\n",
       "</style>\n",
       "<table border=\"1\" class=\"dataframe\">\n",
       "  <thead>\n",
       "    <tr style=\"text-align: right;\">\n",
       "      <th></th>\n",
       "      <th>mean: $\\overline{X}$</th>\n",
       "      <th>SEM: $\\frac{S_0}{\\sqrt{n}}$</th>\n",
       "      <th>E$\\xi$: mean $\\mp$ sem</th>\n",
       "    </tr>\n",
       "  </thead>\n",
       "  <tbody>\n",
       "    <tr>\n",
       "      <th>data\\10_uM_STL.txt</th>\n",
       "      <td>192.005</td>\n",
       "      <td>41.794</td>\n",
       "      <td>192.0 $\\mp$ 41.79</td>\n",
       "    </tr>\n",
       "    <tr>\n",
       "      <th>data\\200_uM_ITP.txt</th>\n",
       "      <td>122.864</td>\n",
       "      <td>37.204</td>\n",
       "      <td>122.9 $\\mp$ 37.2</td>\n",
       "    </tr>\n",
       "    <tr>\n",
       "      <th>data\\200_uM_ITP_10_uM_STL.txt</th>\n",
       "      <td>294.552</td>\n",
       "      <td>71.722</td>\n",
       "      <td>294.6 $\\mp$ 71.72</td>\n",
       "    </tr>\n",
       "    <tr>\n",
       "      <th>data\\400_uM_NTP.txt</th>\n",
       "      <td>61.550</td>\n",
       "      <td>16.192</td>\n",
       "      <td>61.55 $\\mp$ 16.19</td>\n",
       "    </tr>\n",
       "    <tr>\n",
       "      <th>data\\400_uM_NTP_10_uM_STL.txt</th>\n",
       "      <td>346.320</td>\n",
       "      <td>105.344</td>\n",
       "      <td>346.3 $\\mp$ 105.3</td>\n",
       "    </tr>\n",
       "    <tr>\n",
       "      <th>data\\5_uM_GreA_10_uM_STL.txt</th>\n",
       "      <td>216.937</td>\n",
       "      <td>46.919</td>\n",
       "      <td>216.9 $\\mp$ 46.92</td>\n",
       "    </tr>\n",
       "    <tr>\n",
       "      <th>data\\5_uM_GreA_D41A.txt</th>\n",
       "      <td>273.570</td>\n",
       "      <td>97.670</td>\n",
       "      <td>273.6 $\\mp$ 97.67</td>\n",
       "    </tr>\n",
       "    <tr>\n",
       "      <th>data\\5_uM_GreA_D41A_10_uM_STL.txt</th>\n",
       "      <td>311.748</td>\n",
       "      <td>46.395</td>\n",
       "      <td>311.7 $\\mp$ 46.4</td>\n",
       "    </tr>\n",
       "    <tr>\n",
       "      <th>data\\5_uM_GreB_10_uM_STL.txt</th>\n",
       "      <td>388.177</td>\n",
       "      <td>56.485</td>\n",
       "      <td>388.2 $\\mp$ 56.49</td>\n",
       "    </tr>\n",
       "  </tbody>\n",
       "</table>\n",
       "</div>"
      ],
      "text/plain": [
       "                                   mean: $\\overline{X}$  ...  E$\\xi$: mean $\\mp$ sem\n",
       "data\\10_uM_STL.txt                              192.005  ...       192.0 $\\mp$ 41.79\n",
       "data\\200_uM_ITP.txt                             122.864  ...        122.9 $\\mp$ 37.2\n",
       "data\\200_uM_ITP_10_uM_STL.txt                   294.552  ...       294.6 $\\mp$ 71.72\n",
       "data\\400_uM_NTP.txt                              61.550  ...       61.55 $\\mp$ 16.19\n",
       "data\\400_uM_NTP_10_uM_STL.txt                   346.320  ...       346.3 $\\mp$ 105.3\n",
       "data\\5_uM_GreA_10_uM_STL.txt                    216.937  ...       216.9 $\\mp$ 46.92\n",
       "data\\5_uM_GreA_D41A.txt                         273.570  ...       273.6 $\\mp$ 97.67\n",
       "data\\5_uM_GreA_D41A_10_uM_STL.txt               311.748  ...        311.7 $\\mp$ 46.4\n",
       "data\\5_uM_GreB_10_uM_STL.txt                    388.177  ...       388.2 $\\mp$ 56.49\n",
       "\n",
       "[9 rows x 3 columns]"
      ]
     },
     "execution_count": 10,
     "metadata": {},
     "output_type": "execute_result"
    }
   ],
   "source": [
    "result[result.columns[:-1]]=result[result.columns[:-1]].astype(float).round(3)\n",
    "result"
   ]
  },
  {
   "cell_type": "code",
   "execution_count": null,
   "metadata": {},
   "outputs": [],
   "source": []
  }
 ],
 "metadata": {
  "kernelspec": {
   "display_name": "Python 3 (Spyder)",
   "language": "python3",
   "name": "python3"
  },
  "language_info": {
   "codemirror_mode": {
    "name": "ipython",
    "version": 3
   },
   "file_extension": ".py",
   "mimetype": "text/x-python",
   "name": "python",
   "nbconvert_exporter": "python",
   "pygments_lexer": "ipython3",
   "version": "3.8.3"
  }
 },
 "nbformat": 4,
 "nbformat_minor": 4
}
