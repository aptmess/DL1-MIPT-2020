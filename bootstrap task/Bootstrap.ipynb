{
 "cells": [
  {
   "cell_type": "markdown",
   "metadata": {},
   "source": [
    "## Bootstrap"
   ]
  },
  {
   "cell_type": "code",
   "execution_count": 337,
   "metadata": {},
   "outputs": [],
   "source": [
    "import numpy as np \n",
    "import glob\n",
    "import pandas as pd\n",
    "import matplotlib.pyplot as plt\n",
    "import seaborn as sns\n",
    "%matplotlib inline"
   ]
  },
  {
   "cell_type": "markdown",
   "metadata": {},
   "source": [
    "Дана выборка из генеральной совокупности и необходимо оценить выбоочное среднее $\\theta$. Сформируем $N$ подвыборок, которые будут формироваться случайным выбором с возвращением, выбранные элементы исходной выборки возвращаются в выборку и далее могут быть использованы снова.\n",
    "\n",
    "Формально на каждом шаге мы выбираем жлемент исходной выборки с вероятностью $\\frac{1}{n}$, поэтому из генеральной совокупности будут *не выбраны*:\n",
    "$$\\lim\\limits_{n\\ \\to \\infty} \\left(1-\\frac{1}{n}\\right)^n = e^{-1} \\approx 0.36$$\n",
    "\n",
    "Для построения доверительного интервала для среднего значения будем использовать аналог статистики для нормального распределения:\n",
    "$$\\sqrt{n}\\cdot \\frac{\\bar{X}-\\mu}{\\sigma} \\sim \\sqrt{n}\\cdot \\frac{\\bar{X}^*-\\bar{X}}{S_n}$$\n",
    "где\n",
    "\n",
    "- $\\bar{X}^*$ - среднее значение по bootstrap выборке\n",
    "- $\\bar{X}$ - среднее значение по исходной\n",
    "- $S_n$ - среднеквадратичное отклонение (выборочное, если дисперсия неизвестна начальная)\n",
    "\n",
    "Тогда доверительный интервал можно построить двумя способами:\n",
    "\n",
    "- обычный доверительный интервал через квантиль нормального распределения \n",
    "$$ \\bar{X} - q_{\\frac{\\alpha}{2}}\\cdot \\frac{S_n}{\\sqrt{n}} \\leq \\bar{X}^* \\leq \\bar{X} + q_{\\frac{1 - \\alpha}{2}}\\cdot \\frac{S_n}{\\sqrt{n}}$$\n",
    "\n",
    "- просто от bootstrap средних отсечь хвосты распределений и получить 95% интервал\n",
    "\n",
    "В таблице `result` первые две колонки - нижняя и верхняя граница соответствующего доверительного интервала по первому способу, а 3-4 - соответственно по второму."
   ]
  },
  {
   "cell_type": "markdown",
   "metadata": {},
   "source": [
    "## Functions"
   ]
  },
  {
   "cell_type": "code",
   "execution_count": 338,
   "metadata": {},
   "outputs": [],
   "source": [
    "def sample_bootstrap(data, n_samples):\n",
    "    '''\n",
    "    функция реализует возвращение подвыборок из генеральной совокупности\n",
    "    \n",
    "    ----\n",
    "    \n",
    "    data - исходные данные\n",
    "    n_samples - количество разбиений \n",
    "    \n",
    "    output: индексы элементов\n",
    "    '''\n",
    "    n = len(data)\n",
    "    idx = np.random.randint(low = 0, high = n, size = (n_samples, n))\n",
    "    samples = data[idx]\n",
    "    return samples\n",
    "\n",
    "def stat_intervals(stat,alpha=0.05):\n",
    "    '''\n",
    "    функция возвращает доверительный интервал вторым способом\n",
    "    \n",
    "    alpha - доверительный уровень\n",
    "    \n",
    "    stat - массив статистик (средних в нашем случае)\n",
    "    \n",
    "    '''\n",
    "    bound = np.percentile(sorted(stat),[100*alpha/2.,100*(1-alpha/2.)])\n",
    "    \n",
    "    return bound"
   ]
  },
  {
   "cell_type": "markdown",
   "metadata": {},
   "source": [
    "### Preprocessing"
   ]
  },
  {
   "cell_type": "code",
   "execution_count": 339,
   "metadata": {},
   "outputs": [],
   "source": [
    "directory = 'data/*.txt' \n",
    "files = glob.glob(directory)\n",
    "\n",
    "for i, file in enumerate(files):\n",
    "    exec(f\"x_{i} = pd.read_csv(files[i], header=None, sep = '\\t',names = {[str(file)]}, decimal=',') \")"
   ]
  },
  {
   "cell_type": "markdown",
   "metadata": {},
   "source": [
    "## Results"
   ]
  },
  {
   "cell_type": "code",
   "execution_count": 340,
   "metadata": {},
   "outputs": [],
   "source": [
    "np.random.seed(0)\n",
    "alpha = 0.05\n",
    "result = pd.DataFrame(columns = [f'{alpha/2}_left_normal',f'{1-alpha/2}_right_normal',f'{alpha/2}_left_percentile',f'{1-alpha/2}_right_percentile'])\n",
    "a = np.array([])\n",
    "\n",
    "for i,x in enumerate([x_0,x_1,x_2,x_3,x_4,x_5,x_6,x_7,x_8]):\n",
    "    \n",
    "    true_mean = np.mean(x.values) # среднее исходных данных\n",
    "    \n",
    "    true_std = np.std(x.values) # стандартное отклонение исходных данных\n",
    "    \n",
    "    x_0_mean_score = np.array(list(map(np.mean, sample_bootstrap(x.values,1000)))) #bootstrap выборки\n",
    "    \n",
    "    mean = np.mean(x_0_mean_score) #среднее по boostratrp средним\n",
    "\n",
    "    res = stat_intervals(x_0_mean_score,alpha) #доверительный интервал 2-ой споосб\n",
    "    \n",
    "    left = mean - scipy.stats.norm.ppf(1-alpha/2)*true_std/np.sqrt(x.shape[0]) #левая граница 1-ого способа\n",
    "    right = mean + scipy.stats.norm.ppf(1-alpha/2)*true_std/np.sqrt(x.shape[0]) #правая граница 2-ого способа\n",
    "    \n",
    "    result.loc[x.columns[0]]=np.array([left,right,res[0],res[1]])"
   ]
  },
  {
   "cell_type": "code",
   "execution_count": 343,
   "metadata": {},
   "outputs": [
    {
     "data": {
      "text/html": [
       "<div>\n",
       "<style scoped>\n",
       "    .dataframe tbody tr th:only-of-type {\n",
       "        vertical-align: middle;\n",
       "    }\n",
       "\n",
       "    .dataframe tbody tr th {\n",
       "        vertical-align: top;\n",
       "    }\n",
       "\n",
       "    .dataframe thead th {\n",
       "        text-align: right;\n",
       "    }\n",
       "</style>\n",
       "<table border=\"1\" class=\"dataframe\">\n",
       "  <thead>\n",
       "    <tr style=\"text-align: right;\">\n",
       "      <th></th>\n",
       "      <th>0.025_left_normal</th>\n",
       "      <th>0.975_right_normal</th>\n",
       "      <th>0.025_left_percentile</th>\n",
       "      <th>0.975_right_percentile</th>\n",
       "    </tr>\n",
       "  </thead>\n",
       "  <tbody>\n",
       "    <tr>\n",
       "      <th>data\\10_uM_STL.txt</th>\n",
       "      <td>105.954</td>\n",
       "      <td>277.057</td>\n",
       "      <td>118.823</td>\n",
       "      <td>283.192</td>\n",
       "    </tr>\n",
       "    <tr>\n",
       "      <th>data\\200_uM_ITP.txt</th>\n",
       "      <td>38.593</td>\n",
       "      <td>206.662</td>\n",
       "      <td>54.329</td>\n",
       "      <td>220.152</td>\n",
       "    </tr>\n",
       "    <tr>\n",
       "      <th>data\\200_uM_ITP_10_uM_STL.txt</th>\n",
       "      <td>150.135</td>\n",
       "      <td>444.235</td>\n",
       "      <td>161.335</td>\n",
       "      <td>454.739</td>\n",
       "    </tr>\n",
       "    <tr>\n",
       "      <th>data\\400_uM_NTP.txt</th>\n",
       "      <td>19.816</td>\n",
       "      <td>103.517</td>\n",
       "      <td>31.462</td>\n",
       "      <td>109.440</td>\n",
       "    </tr>\n",
       "    <tr>\n",
       "      <th>data\\400_uM_NTP_10_uM_STL.txt</th>\n",
       "      <td>132.376</td>\n",
       "      <td>571.116</td>\n",
       "      <td>168.601</td>\n",
       "      <td>601.356</td>\n",
       "    </tr>\n",
       "    <tr>\n",
       "      <th>data\\5_uM_GreA_10_uM_STL.txt</th>\n",
       "      <td>123.911</td>\n",
       "      <td>313.650</td>\n",
       "      <td>128.241</td>\n",
       "      <td>312.554</td>\n",
       "    </tr>\n",
       "    <tr>\n",
       "      <th>data\\5_uM_GreA_D41A.txt</th>\n",
       "      <td>63.868</td>\n",
       "      <td>482.184</td>\n",
       "      <td>90.505</td>\n",
       "      <td>504.585</td>\n",
       "    </tr>\n",
       "    <tr>\n",
       "      <th>data\\5_uM_GreA_D41A_10_uM_STL.txt</th>\n",
       "      <td>217.761</td>\n",
       "      <td>401.894</td>\n",
       "      <td>227.898</td>\n",
       "      <td>406.469</td>\n",
       "    </tr>\n",
       "    <tr>\n",
       "      <th>data\\5_uM_GreB_10_uM_STL.txt</th>\n",
       "      <td>277.035</td>\n",
       "      <td>503.143</td>\n",
       "      <td>285.408</td>\n",
       "      <td>517.281</td>\n",
       "    </tr>\n",
       "  </tbody>\n",
       "</table>\n",
       "</div>"
      ],
      "text/plain": [
       "                                   0.025_left_normal  0.975_right_normal  \\\n",
       "data\\10_uM_STL.txt                           105.954             277.057   \n",
       "data\\200_uM_ITP.txt                           38.593             206.662   \n",
       "data\\200_uM_ITP_10_uM_STL.txt                150.135             444.235   \n",
       "data\\400_uM_NTP.txt                           19.816             103.517   \n",
       "data\\400_uM_NTP_10_uM_STL.txt                132.376             571.116   \n",
       "data\\5_uM_GreA_10_uM_STL.txt                 123.911             313.650   \n",
       "data\\5_uM_GreA_D41A.txt                       63.868             482.184   \n",
       "data\\5_uM_GreA_D41A_10_uM_STL.txt            217.761             401.894   \n",
       "data\\5_uM_GreB_10_uM_STL.txt                 277.035             503.143   \n",
       "\n",
       "                                   0.025_left_percentile  \\\n",
       "data\\10_uM_STL.txt                               118.823   \n",
       "data\\200_uM_ITP.txt                               54.329   \n",
       "data\\200_uM_ITP_10_uM_STL.txt                    161.335   \n",
       "data\\400_uM_NTP.txt                               31.462   \n",
       "data\\400_uM_NTP_10_uM_STL.txt                    168.601   \n",
       "data\\5_uM_GreA_10_uM_STL.txt                     128.241   \n",
       "data\\5_uM_GreA_D41A.txt                           90.505   \n",
       "data\\5_uM_GreA_D41A_10_uM_STL.txt                227.898   \n",
       "data\\5_uM_GreB_10_uM_STL.txt                     285.408   \n",
       "\n",
       "                                   0.975_right_percentile  \n",
       "data\\10_uM_STL.txt                                283.192  \n",
       "data\\200_uM_ITP.txt                               220.152  \n",
       "data\\200_uM_ITP_10_uM_STL.txt                     454.739  \n",
       "data\\400_uM_NTP.txt                               109.440  \n",
       "data\\400_uM_NTP_10_uM_STL.txt                     601.356  \n",
       "data\\5_uM_GreA_10_uM_STL.txt                      312.554  \n",
       "data\\5_uM_GreA_D41A.txt                           504.585  \n",
       "data\\5_uM_GreA_D41A_10_uM_STL.txt                 406.469  \n",
       "data\\5_uM_GreB_10_uM_STL.txt                      517.281  "
      ]
     },
     "execution_count": 343,
     "metadata": {},
     "output_type": "execute_result"
    }
   ],
   "source": [
    "result = result.round(3)\n",
    "result"
   ]
  },
  {
   "cell_type": "code",
   "execution_count": null,
   "metadata": {},
   "outputs": [],
   "source": []
  }
 ],
 "metadata": {
  "kernelspec": {
   "display_name": "Python 3",
   "language": "python",
   "name": "python3"
  },
  "language_info": {
   "codemirror_mode": {
    "name": "ipython",
    "version": 3
   },
   "file_extension": ".py",
   "mimetype": "text/x-python",
   "name": "python",
   "nbconvert_exporter": "python",
   "pygments_lexer": "ipython3",
   "version": "3.7.1"
  }
 },
 "nbformat": 4,
 "nbformat_minor": 2
}
