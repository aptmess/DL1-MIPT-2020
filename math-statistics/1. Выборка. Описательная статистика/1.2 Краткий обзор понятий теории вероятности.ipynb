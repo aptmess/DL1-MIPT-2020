{
 "cells": [
  {
   "cell_type": "markdown",
   "metadata": {},
   "source": [
    "## 1.2.1 События\n",
    "\n",
    "### Выберите все подходящие ответы из списка\n",
    "\n",
    "- Пусть один раз подбрасывается игральный кубик. Событие $A$ - выпадение четной грани, событие $B$ - выпадение грани с $4$ очками. Тогда событие $C = A \\cup B = A + B$ заключается  в том, что выпадают четные грани - **верно**\n",
    "\n",
    "- При однократном бросании монеты события \"выпадение герба\" и \"выпадение решки\" являются несовместными - **верно**, так как их совместное появление невозможно\n",
    "\n",
    "- Пусть один раз из игральной колоды в 36 карт вытаскивается 1 карта. Событие $A$ - выпадение карты бубновой масти, событие $B$ - выпадение туза. Тогда событие $C = A \\cap B$ заключается в том, что выпадает бубновый туз -  **верно** - умножение двух событий - два события произошли одновременно\n",
    "\n",
    "- Если события $A$ и $B$ независимы, то $P(A \\cap B) = P(A) = P(B)$ - **верно**\n",
    "\n",
    "- Пусть один раз из игральной колоды в 36 карт вытаскивается 1 карта. Событие $A$ - выпадение карты бубновой масти, событие $B$ - выпадение туза. Тогда вероятность события $D = A + B $ равна $\\frac{1}{3}$:\n",
    "\n",
    "$$\\large p(D) = P(A + B) = P(A \\cup B) = P(A) + P(B) - P(A \\cap B) =$$\n",
    "\n",
    "$$\\frac{1}{4} + \\frac{1}{9} - p(A) \\cdot p(B) = \\frac{13}{36} - \\frac{1}{4} \\cdot \\frac{1}{9} = \\frac{1}{3}$$\n",
    "\n",
    "## 1.2.3 Функция распределения\n",
    "\n",
    "- Ни одно из приведенных утверждений не является верным\n",
    "\n",
    "## 1.2.4 Дискретные случайные величины\n",
    "\n",
    "$\\xi$ называется дискретной случайной величиной, если она принимает счетное число значений. Если множество значений конечно, то случайная величина называется простой.\n",
    "\n",
    "$$\\large p_i = P\\{\\omega: \\xi = x_i\\}$$\n",
    "\n",
    "$$\\large F(x) = \\sum\\limits_{x_i < x} p_i$$\n",
    "\n",
    "**Задание**: случайная величина $\\xi$ принимает значения $-1,0,1$ с вероятностями, равными $0.25,0.5,0.25$. Найдеите значения функции распределения в точках $x: -2,0,0.5,2$\n",
    "\n",
    "**Решение**:\n",
    "\n",
    "$$\\large p_1 = P(x_1= - 1) = 0.25, p_2 = P(x_2 = 0 ) = 0.5, p_3 = P(x_3= 1) = 0.25$$\n",
    "\n",
    "$$\\large F(-2) = \\sum\\limits_{x_i < -2} p_i = 0 $$\n",
    "\n",
    "$$\\large F(0) = \\sum\\limits_{x_i < 0} p_i = p_1 = 0.25 $$\n",
    "\n",
    "$$\\large F(0.5) = \\sum\\limits_{x_i < 0.5} p_i = p_1 + p_2 = 0.75 $$\n",
    "\n",
    "$$\\large F(2) = \\sum\\limits_{x_i < 2} p_i = p_1 + p_2 + p_3  = 1 $$"
   ]
  },
  {
   "cell_type": "markdown",
   "metadata": {},
   "source": [
    "## 1.2.5 Непрерывные случайные величины\n",
    "\n",
    "Если существует функция $f(x) \\leq 0 \\quad \\forall x$:\n",
    "\n",
    "$$ \\large F(x) = \\int\\limits_{-\\infty}^x f(t)dt$$ \n",
    "\n",
    "случайная величина называется непрерывной, а $f(x)$ - плотностью распределения случайной величины\n",
    "\n",
    "**Свойства плотности распределения**:\n",
    "\n",
    "1. $f(x) \\leq 0$\n",
    "\n",
    "2. $x_1 < x_2 : P(x_1 \\leq \\xi < x_2) = \\int\\limits_{x_1}^{x_2} f(x)dx$\n",
    "\n",
    "3. $\\int\\limits_{-\\infty}^{\\infty} f(x)dx = 1$\n",
    "\n",
    "**Задание**:\n",
    "\n",
    "Плотность распределения случайной величины принимает следующие значения:\n",
    "$$\\large f(x) = \\begin{cases}\n",
    "    0 \\quad x \\leq 1 \\\\\n",
    "    0.5 \\quad 1 < x \\leq 2 \\\\\n",
    "    0 \\quad 2 < x \\leq 3 \\\\\n",
    "    0.5 \\quad 3 < x \\leq 4 \\\\\n",
    "    0 \\quad x >4 \\\\\n",
    "\\end{cases}$$\n",
    "\n",
    "Найдите значения **функции распределения** в точках $0.5, 1.5, 2.5, 3.5, 4.5$\n",
    "\n",
    "**Решение**\n",
    "\n",
    "Построим график для функции вероятности от числа $3.5$"
   ]
  },
  {
   "cell_type": "code",
   "execution_count": 1,
   "metadata": {},
   "outputs": [],
   "source": [
    "import numpy as np\n",
    "import matplotlib.pyplot as plt"
   ]
  },
  {
   "cell_type": "markdown",
   "metadata": {},
   "source": [
    "### Data generation"
   ]
  },
  {
   "cell_type": "code",
   "execution_count": 2,
   "metadata": {},
   "outputs": [],
   "source": [
    "font_options = {'family' : 'monospace'}\n",
    "figure_options = {'figsize':[17,10]}\n",
    "plt.rc('font', **font_options)\n",
    "plt.rc('figure', **figure_options)"
   ]
  },
  {
   "cell_type": "code",
   "execution_count": 3,
   "metadata": {},
   "outputs": [],
   "source": [
    "def points(x):\n",
    "    if x <= 1 or 2 < x <=3 or x > 4:\n",
    "        return 0\n",
    "    if 1 < x <=2 or 3 < x <=4:\n",
    "        return 0.5\n",
    "\n",
    "x = np.arange(0, 4.5, 0.01)\n",
    "y = np.array(list(map(points,x)))"
   ]
  },
  {
   "cell_type": "markdown",
   "metadata": {},
   "source": [
    "### Visualtisation"
   ]
  },
  {
   "cell_type": "code",
   "execution_count": 4,
   "metadata": {},
   "outputs": [
    {
     "data": {
      "image/png": "[encoded data removed]",
      "text/plain": [
       "<Figure size 1224x720 with 1 Axes>"
      ]
     },
     "metadata": {
      "needs_background": "light"
     },
     "output_type": "display_data"
    }
   ],
   "source": [
    "fig, ax = plt.subplots(1,1)\n",
    "\n",
    "ax.plot(x,y,label = 'F(x)', marker='')\n",
    "ax.set_xticks(np.arange(0,4.5,0.5))\n",
    "\n",
    "ax.axhline(y=0, color='k',alpha = 0.3)\n",
    "ax.axvline(x=0, color='k', marker = '^',alpha = 0.8)\n",
    "ax.axvline(x=3.5, color='k', ls = '--', alpha = 1)\n",
    "\n",
    "ax.fill_betweenx([0,0.5],1,2,facecolor='blue',hatch = '/', alpha = 0.05)\n",
    "ax.fill_betweenx([0,0.5],3,3.5,facecolor='blue',hatch = '/', alpha = 0.05)\n",
    "\n",
    "ax.legend(fontsize=20)\n",
    "ax.set_xlabel('x',fontsize=20)\n",
    "ax.set_ylabel('F(x)',fontsize=20)\n",
    "ax.set_title('F(x) = $\\int_{-\\infty}^x f(t)dt$', fontsize = 20)\n",
    "\n",
    "plt.show()"
   ]
  },
  {
   "cell_type": "markdown",
   "metadata": {},
   "source": [
    "По данному графику находим значение функции вероятности.\n",
    "\n",
    "**Ответ**: $0, 0.25, 0.5, 0.75, 1$"
   ]
  },
  {
   "cell_type": "markdown",
   "metadata": {},
   "source": [
    "### 1.2.6 Математическое ожидание\n",
    "\n",
    "**Математическим ожиданием** $E\\xi$ случайной величины $\\xi$ с дискретным распределением $P(\\xi = x_i) = p_i, i \\in Z$, называется:\n",
    "$$\\large E\\xi = \\sum\\limits_{i=1}^{\\infty} x_i p_i$$\n",
    "если данный ряд абсолютно сходится. В противном случае, математического ожидания не существует.\n",
    "\n",
    "**Математическим ожиданием** $E\\xi$ случайной величины $\\xi$ с непрерывным распределением с плотностью распределения $f(x)$ называется:\n",
    "$$\\large E\\xi = \\int\\limits_{-\\infty}^{\\infty} x f(x) dx$$\n",
    "если данный интеграл абсолютно сходится\n",
    "\n",
    "**Задание**:\n",
    "\n",
    "Cлучайная величина $\\xi$ принимает значения $-1,0,1$ с вероятностями, равными $0.25,0.5,0.25$.\n",
    "\n",
    "Плотность распределения случайной величины $\\eta$ принимает следующие значения:\n",
    "$$\\large f(x) = \\begin{cases}\n",
    "    0 \\quad x \\leq 1 \\\\\n",
    "    0.5 \\quad 1 < x \\leq 2 \\\\\n",
    "    0 \\quad 2 < x \\leq 3 \\\\\n",
    "    0.5 \\quad 3 < x \\leq 4 \\\\\n",
    "    0 \\quad x >4 \\\\\n",
    "\\end{cases}$$\n",
    "\n",
    "Найдите математические ожидания $\\xi$ и $\\eta$\n",
    "\n",
    "**Решение**:\n",
    "\n",
    "$$\\large E\\xi = \\sum\\limits_{i=1}^{3} x_i p_i = -1 \\cdot 0.25 + 0 \\cdot 0.5 + 1 \\cdot 0.25 = 0$$\n",
    "$$\\large E\\eta = \\int\\limits_{3}^{4} x \\cdot 0.5 dx + \\int\\limits_{1}^{2} x \\cdot 0.5 dx = \\frac{x^2}{4}|_1^2 + \\frac{x^2}{4}|_3^4  = 1 - \\frac{1}{4} + 4 - \\frac{9}{4}= 2.5$$\n",
    "\n",
    "\n",
    "### 1.2.7 Дисперсия\n",
    "\n",
    "\n",
    "**Задание**:\n",
    "\n",
    "Cлучайная величина $\\xi$ принимает значения $-1,0,1$ с вероятностями, равными $0.25,0.5,0.25$.\n",
    "\n",
    "Плотность распределения случайной величины $\\eta$ принимает следующие значения:\n",
    "$$\\large f(x) = \\begin{cases}\n",
    "    0 \\quad x \\leq 1 \\\\\n",
    "    0.5 \\quad 1 < x \\leq 2 \\\\\n",
    "    0 \\quad 2 < x \\leq 3 \\\\\n",
    "    0.5 \\quad 3 < x \\leq 4 \\\\\n",
    "    0 \\quad x >4 \\\\\n",
    "\\end{cases}$$\n",
    "\n",
    "Найдите математические ожидания $\\xi$ и $\\eta$\n",
    "\n",
    "**Решение**:\n",
    "$$\\large D\\xi = \\sum\\limits_{i=1}^3 p_i(x_i - E\\xi)^2 \\cdot p_i = 1 \\cdot 0.25 + 0 \\cdot 0.5 + 1 \\cdot 0.25 = 0.5$$\n",
    "$$\\large D\\eta = \\int\\limits_{-\\infty}^{\\infty} (x-E\\eta)^2 \\cdot f(x)dx = \\int\\limits_{1}^{2} (x-2.5)^2 \\cdot 0.5 dx + \\int\\limits_{3}^{4} (x-2.5)^2 \\cdot 0.5 dx = $$\n",
    "$$ = \\large 0.5\\left(\\frac{x^3}{3} - \\frac{5x^2}{2} + \\frac{25}{4}x|_1^2 + \\frac{x^3}{3} - \\frac{5x^2}{2} + \\frac{25}{4}x|_3^4\\right) = \\frac{13}{12} \\approx 1.1$$\n",
    "\n",
    "\n",
    "### 1.2.8 Примеры дискретных распределений\n",
    "\n",
    "**Задание** : найдите  мат. ожидания случайных величин, имеющих следующие законы распределения:\n",
    "\n",
    "- $\\large c = 3$ : $Ec = c = 3$\n",
    "- $\\large B(p = 0.5) \\Rightarrow E\\xi = 1 \\cdot p  = 0.5$\n",
    "- $\\large B(n = 4,p = 0.3) \\Rightarrow E\\xi = np = 4 \\cdot 0.3 = 1.2$\n",
    "- $\\large G(p=0.4) \\Rightarrow E\\xi  =\\frac{1}{p} = 2.5$\n",
    "- $\\large P(\\lambda = 5) \\Rightarrow E\\xi = \\lambda = 5$\n",
    "\n",
    "### 1.2.9 Примеры непрерывных распределений\n",
    "\n",
    "1. Случайная величина $\\xi$ имеет равномерное распределение на отрезке $[a,b]$, $\\xi \\in U(a,b)$, если плотность распределения $\\xi$ постоянна на отрезке $[a,b]$ и равна $0$:\n",
    "$$\\large f(x) =\\begin{cases}\n",
    "\\frac{1}{b-a},  x\\in[a,b] \\\\ \n",
    "0, x \\not \\in [a,b]\n",
    "\\end{cases}$$\n",
    "\n",
    "2. Случайная величина $\\xi$ имеет экспоненциальное распределение с параметром $\\lambda > 0 $, если плотноть распределения $\\xi$ имеет следующий вид:\n",
    "$$\\large f(x) =\\begin{cases}\n",
    "\\lambda e^{-\\lambda x},  x \\geq 0 \\\\ \n",
    "0, x <0\n",
    "\\end{cases}$$\n",
    "\n",
    "Найдите  мат. ожидания случайных величин, имеющих следующие законы распределения:\n",
    "\n",
    "- $U(a=0, b=5) \\Rightarrow E\\xi = \\frac{a+b}{2} = 2.5$\n",
    "- $E(\\lambda = 0.2) \\Rightarrow E\\xi = \\frac{1}{\\lambda} = \\frac{1}{0.2} = 5$\n",
    "- $N(4,2) \\Rightarrow E\\xi = 4$"
   ]
  }
 ],
 "metadata": {
  "kernelspec": {
   "display_name": "Python 3",
   "language": "python",
   "name": "python3"
  },
  "language_info": {
   "codemirror_mode": {
    "name": "ipython",
    "version": 3
   },
   "file_extension": ".py",
   "mimetype": "text/x-python",
   "name": "python",
   "nbconvert_exporter": "python",
   "pygments_lexer": "ipython3",
   "version": "3.7.3"
  }
 },
 "nbformat": 4,
 "nbformat_minor": 2
}
